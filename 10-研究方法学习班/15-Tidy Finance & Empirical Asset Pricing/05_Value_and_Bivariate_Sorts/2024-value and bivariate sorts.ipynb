{
 "cells": [
  {
   "cell_type": "code",
   "execution_count": null,
   "id": "dce834fb",
   "metadata": {},
   "outputs": [
    {
     "ename": "",
     "evalue": "",
     "output_type": "error",
     "traceback": [
      "\u001b[1;31m运行具有“Python 3.11.4”的单元格需要ipykernel包。\n",
      "\u001b[1;31m运行以下命令，将 \"ipykernel\" 安装到 Python 环境中。\n",
      "\u001b[1;31m命令: \"/usr/local/bin/python3 -m pip install ipykernel -U --user --force-reinstall\""
     ]
    }
   ],
   "source": [
    "import pandas as pd\n",
    "import numpy as np\n",
    "import datetime as dt\n",
    "import sqlite3"
   ]
  },
  {
   "cell_type": "code",
   "execution_count": null,
   "id": "63d12ef2",
   "metadata": {},
   "outputs": [],
   "source": [
    "tidy_finance = sqlite3.connect(database=\"/Users/yy/Desktop/pythonProject/finance/tidy_finance.sqlite\")\n",
    "\n",
    "crsp_monthly = (pd.read_sql_query(\n",
    "    sql=(\"SELECT permno, gvkey, date, ret_excess, mktcap, \" \n",
    "         \"mktcap_lag, exchange FROM crsp_monthly\"),\n",
    "    con=tidy_finance,\n",
    "    parse_dates={\"date\"})\n",
    "  .dropna()\n",
    ")"
   ]
  },
  {
   "cell_type": "code",
   "execution_count": null,
   "id": "cbc40d69",
   "metadata": {},
   "outputs": [],
   "source": [
    "crsp_monthly"
   ]
  },
  {
   "cell_type": "code",
   "execution_count": null,
   "id": "73adef2d",
   "metadata": {},
   "outputs": [],
   "source": [
    "book_equity = (pd.read_sql_query(\n",
    "    sql=\"SELECT gvkey, datadate, be FROM compustat\",\n",
    "    con=tidy_finance, \n",
    "    parse_dates={\"datadate\"})\n",
    "  .dropna()\n",
    "  .assign(\n",
    "    date=lambda x: (\n",
    "      pd.to_datetime(x[\"datadate\"]).dt.to_period(\"M\").dt.to_timestamp()\n",
    "    )\n",
    "  )\n",
    ")"
   ]
  },
  {
   "cell_type": "code",
   "execution_count": null,
   "id": "faa6177b",
   "metadata": {},
   "outputs": [],
   "source": [
    "me = (crsp_monthly\n",
    "  .assign(sorting_date=lambda x: x[\"date\"]+pd.DateOffset(months=1))\n",
    "  .rename(columns={\"mktcap\": \"me\"})\n",
    "  .get([\"permno\", \"sorting_date\", \"me\"])\n",
    ")\n",
    "\n",
    "bm = (book_equity\n",
    "  .merge(crsp_monthly, how=\"inner\", on=[\"gvkey\", \"date\"])\n",
    "  .assign(bm=lambda x: x[\"be\"]/x[\"mktcap\"],\n",
    "          sorting_date=lambda x: x[\"date\"]+pd.DateOffset(months=6))\n",
    "  .assign(comp_date=lambda x: x[\"sorting_date\"])\n",
    "  .get([\"permno\", \"gvkey\", \"sorting_date\", \"comp_date\", \"bm\"])\n",
    ")\n",
    "\n",
    "data_for_sorts = (crsp_monthly\n",
    "  .merge(bm, \n",
    "         how=\"left\", \n",
    "         left_on=[\"permno\", \"gvkey\", \"date\"], \n",
    "         right_on=[\"permno\", \"gvkey\", \"sorting_date\"])\n",
    "  .merge(me, \n",
    "         how=\"left\", \n",
    "         left_on=[\"permno\", \"date\"], \n",
    "         right_on=[\"permno\", \"sorting_date\"])\n",
    "  .get([\"permno\", \"gvkey\", \"date\", \"ret_excess\", \n",
    "        \"mktcap_lag\", \"me\", \"bm\", \"exchange\", \"comp_date\"])\n",
    ")\n",
    "\n",
    "data_for_sorts = (data_for_sorts\n",
    "  .sort_values(by=[\"permno\", \"gvkey\", \"date\"])\n",
    "  .groupby([\"permno\", \"gvkey\"], group_keys=False)\n",
    "  .apply(lambda x: x.assign(\n",
    "      bm=x[\"bm\"].fillna(method=\"ffill\"), \n",
    "      comp_date=x[\"comp_date\"].fillna(method=\"ffill\")\n",
    "    )\n",
    "  )\n",
    "  .reset_index(drop=True)\n",
    "  .assign(threshold_date = lambda x: (x[\"date\"]-pd.DateOffset(months=12)))\n",
    "  .query(\"comp_date > threshold_date\")\n",
    "  .drop(columns=[\"comp_date\", \"threshold_date\"])\n",
    "  .dropna()\n",
    ")"
   ]
  },
  {
   "cell_type": "code",
   "execution_count": null,
   "id": "1938b6d1",
   "metadata": {},
   "outputs": [],
   "source": [
    "def assign_portfolio(data, exchanges, sorting_variable, n_portfolios):\n",
    "    \"\"\"Assign portfolio for a given sorting variable.\"\"\"\n",
    "    \n",
    "    breakpoints = (data\n",
    "      .query(f\"exchange in {exchanges}\")\n",
    "      .get(sorting_variable)\n",
    "      .quantile(np.linspace(0, 1, num=n_portfolios+1), \n",
    "                interpolation=\"linear\")\n",
    "      .drop_duplicates()\n",
    "    )\n",
    "    breakpoints.iloc[0] = -np.Inf\n",
    "    breakpoints.iloc[breakpoints.size-1] = np.Inf\n",
    "    \n",
    "    assigned_portfolios = pd.cut(\n",
    "      data[sorting_variable],\n",
    "      bins=breakpoints,\n",
    "      labels=range(1, breakpoints.size),\n",
    "      include_lowest=True,\n",
    "      right=False\n",
    "    )\n",
    "    \n",
    "    return assigned_portfolios"
   ]
  },
  {
   "cell_type": "code",
   "execution_count": null,
   "id": "6caa3d1a",
   "metadata": {},
   "outputs": [],
   "source": [
    "value_portfolios = (data_for_sorts\n",
    "  .groupby(\"date\", group_keys=False)\n",
    "  .apply(lambda x: x.assign(\n",
    "      portfolio_bm=assign_portfolio(\n",
    "        data=x, sorting_variable=\"bm\", n_portfolios=5, exchanges=[\"NYSE\"]\n",
    "      ),\n",
    "      portfolio_me=assign_portfolio(\n",
    "        data=x, sorting_variable=\"me\", n_portfolios=5, exchanges=[\"NYSE\"]\n",
    "      )\n",
    "    )\n",
    "  )\n",
    "  .reset_index(drop=True)\n",
    "  .groupby([\"date\", \"portfolio_bm\", \"portfolio_me\"], group_keys=False)\n",
    "  .apply(lambda x: pd.Series({\n",
    "      \"ret\": np.average(x[\"ret_excess\"], weights=x[\"mktcap_lag\"])\n",
    "    })\n",
    "  )\n",
    "  .reset_index()\n",
    ")"
   ]
  },
  {
   "cell_type": "code",
   "execution_count": null,
   "id": "a217cafd",
   "metadata": {},
   "outputs": [],
   "source": [
    "value_premium = (value_portfolios\n",
    "  .groupby([\"date\", \"portfolio_bm\"])\n",
    "  .aggregate({\"ret\": \"mean\"})\n",
    "  .reset_index()\n",
    "  .groupby(\"date\")\n",
    "  .apply(lambda x: pd.Series({\n",
    "    \"value_premium\": (\n",
    "        x.loc[x[\"portfolio_bm\"] == x[\"portfolio_bm\"].max(), \"ret\"].mean() - \n",
    "          x.loc[x[\"portfolio_bm\"] == x[\"portfolio_bm\"].min(), \"ret\"].mean()\n",
    "      )\n",
    "    })\n",
    "  )\n",
    "  .aggregate({\"value_premium\": \"mean\"})\n",
    ")"
   ]
  },
  {
   "cell_type": "code",
   "execution_count": null,
   "id": "d6ef3e06",
   "metadata": {},
   "outputs": [],
   "source": [
    "value_portfolios = (data_for_sorts\n",
    "  .groupby(\"date\", group_keys=False)\n",
    "  .apply(lambda x: x.assign(\n",
    "      portfolio_me=assign_portfolio(\n",
    "        data=x, sorting_variable=\"me\", n_portfolios=5, exchanges=[\"NYSE\"]\n",
    "      )\n",
    "    )\n",
    "  )\n",
    "  .reset_index(drop=True)\n",
    "  .groupby([\"date\", \"portfolio_me\"], group_keys=False)\n",
    "  .apply(lambda x: x.assign(\n",
    "      portfolio_bm=assign_portfolio(\n",
    "        data=x, sorting_variable=\"bm\", n_portfolios=5, exchanges=[\"NYSE\"]\n",
    "      )\n",
    "    )\n",
    "  )\n",
    "  .reset_index(drop=True)\n",
    "  .groupby([\"date\", \"portfolio_bm\", \"portfolio_me\"], group_keys=False)\n",
    "  .apply(lambda x: pd.Series({\n",
    "      \"ret\": np.average(x[\"ret_excess\"], weights=x[\"mktcap_lag\"])\n",
    "    })\n",
    "  )\n",
    "  .reset_index()\n",
    ")\n",
    "\n",
    "value_premium = (value_portfolios\n",
    "  .groupby([\"date\", \"portfolio_bm\"], group_keys=False)\n",
    "  .aggregate({\"ret\": \"mean\"})\n",
    "  .reset_index()\n",
    "  .groupby(\"date\")\n",
    "  .apply(lambda x: pd.Series({\n",
    "    \"value_premium\": (\n",
    "        x.loc[x[\"portfolio_bm\"] == x[\"portfolio_bm\"].max(), \"ret\"].mean() -\n",
    "          x.loc[x[\"portfolio_bm\"] == x[\"portfolio_bm\"].min(), \"ret\"].mean()\n",
    "      )\n",
    "    })\n",
    "  )\n",
    "  .aggregate({\"value_premium\": \"mean\"})\n",
    ")"
   ]
  },
  {
   "cell_type": "code",
   "execution_count": null,
   "id": "3d1c3dd8",
   "metadata": {},
   "outputs": [],
   "source": []
  }
 ],
 "metadata": {
  "kernelspec": {
   "display_name": "Python 3",
   "language": "python",
   "name": "python3"
  },
  "language_info": {
   "codemirror_mode": {
    "name": "ipython",
    "version": 3
   },
   "file_extension": ".py",
   "mimetype": "text/x-python",
   "name": "python",
   "nbconvert_exporter": "python",
   "pygments_lexer": "ipython3",
   "version": "3.11.4"
  }
 },
 "nbformat": 4,
 "nbformat_minor": 5
}
