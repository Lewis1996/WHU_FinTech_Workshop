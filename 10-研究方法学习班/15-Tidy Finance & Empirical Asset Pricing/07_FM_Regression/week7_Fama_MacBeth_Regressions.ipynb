{
 "cells": [
  {
   "cell_type": "markdown",
   "metadata": {},
   "source": [
    "# Week7 Fama-MacBeth回归"
   ]
  },
  {
   "cell_type": "markdown",
   "metadata": {},
   "source": [
    "## 分工：\n",
    "石宛青：主要负责主体部分；王梦涵：主要负责习题部分。共同讨论遇到的问题。"
   ]
  },
  {
   "cell_type": "markdown",
   "metadata": {},
   "source": [
    "\n",
    "## 介绍：\n",
    "前文我们掌握了组合分析：优点：非参数；缺点：较难包含多个控制变量\n",
    "\n",
    "Fama & MacBeth （1973）允许控制较多其他变量，线性假设；被广泛用于实证资产定价研究。\n",
    "\n",
    "## 目的：\n",
    "复现Fama和French（1993）三因素模型（beta,size,bm）的FM回归。\n",
    "\n",
    "## 理论：\n",
    "两步法：从本质上讲，两步 Fama-MacBeth 回归利用了预期回报与风险因素暴露之间的线性关系\n",
    "\n",
    "#### step0：计算个股在每个时点的风险暴露敞口beta\n",
    "\n",
    "#### step1：使用暴露（特征）作为解释变量进行横截面回归\n",
    "\n",
    "<center>$r_{i,t+1} = \\alpha_i+\\lambda_t^M\\beta_{i,t}^M+\\lambda_t^{SMB}\\beta_{i,t}^{SMB}+\\lambda_t^{HML}\\beta_{i,t}^{HML}+\\epsilon_{i,t}$\n",
    "\n"
   ]
  },
  {
   "cell_type": "markdown",
   "metadata": {},
   "source": [
    "#### step2：对横截面回归结果进行时间序列平均,手动计算T值\n",
    "<center>$\\frac{1}{T}\\sum_{t=1}^{T}\\hat{\\lambda_t^f}$"
   ]
  },
  {
   "cell_type": "markdown",
   "metadata": {},
   "source": [
    "\n",
    "## 实证内容：\n",
    "### 1.数据准备\n",
    "\n",
    "（1）导入股票收益月度数据（crsp_monthly）的超额收益、第三周计算的beta\n",
    "\n",
    "（2）导入公司财务数据（compustat），以计算bm,size"
   ]
  },
  {
   "cell_type": "code",
   "execution_count": 1,
   "metadata": {},
   "outputs": [],
   "source": [
    "import pandas as pd\n",
    "import numpy as np\n",
    "import sqlite3\n",
    "import statsmodels.api as sm\n"
   ]
  },
  {
   "cell_type": "code",
   "execution_count": 2,
   "metadata": {},
   "outputs": [],
   "source": [
    "import warnings\n",
    "warnings.filterwarnings(\"ignore\")"
   ]
  },
  {
   "cell_type": "code",
   "execution_count": 3,
   "metadata": {},
   "outputs": [],
   "source": [
    "####导入数据\n",
    "\n",
    "tidy_finance = sqlite3.connect(database='data/tidy_finance_python.sqlite')#data文件夹下有一个sqlite文件\n",
    "crsp_monthly = pd.read_sql_query(sql='SELECT permno, gvkey, month, ret_excess, mktcap, mktcap_lag FROM crsp_monthly',\n",
    "                                 con=tidy_finance,parse_dates={'month'})## 这里比原文多导入了滞后市值，用于练习加权，3326353行\n",
    "compustat = pd.read_sql_query(sql = 'SELECT datadate, gvkey, be FROM compustat',con=tidy_finance,parse_dates={'datadate'})#549426行\n",
    "##提前将week3算出的beta导进sql，目前已经导入共享Dropbox了\n",
    "beta = pd.read_sql_query(sql = 'SELECT month, permno, beta_monthly FROM beta',con=tidy_finance,parse_dates={'month'})#3336322行"
   ]
  },
  {
   "cell_type": "markdown",
   "metadata": {},
   "source": [
    "（3）计算账面市值比bm : $be/mktcap$  和规模size : $ln(mktcap)$"
   ]
  },
  {
   "cell_type": "code",
   "execution_count": 4,
   "metadata": {},
   "outputs": [
    {
     "data": {
      "text/html": [
       "<div>\n",
       "<style scoped>\n",
       "    .dataframe tbody tr th:only-of-type {\n",
       "        vertical-align: middle;\n",
       "    }\n",
       "\n",
       "    .dataframe tbody tr th {\n",
       "        vertical-align: top;\n",
       "    }\n",
       "\n",
       "    .dataframe thead th {\n",
       "        text-align: right;\n",
       "    }\n",
       "</style>\n",
       "<table border=\"1\" class=\"dataframe\">\n",
       "  <thead>\n",
       "    <tr style=\"text-align: right;\">\n",
       "      <th></th>\n",
       "      <th>gvkey</th>\n",
       "      <th>bm</th>\n",
       "      <th>log_mktcap</th>\n",
       "      <th>beta</th>\n",
       "      <th>sorting_date</th>\n",
       "    </tr>\n",
       "  </thead>\n",
       "  <tbody>\n",
       "    <tr>\n",
       "      <th>0</th>\n",
       "      <td>011358</td>\n",
       "      <td>NaN</td>\n",
       "      <td>NaN</td>\n",
       "      <td>NaN</td>\n",
       "      <td>1960-07-01</td>\n",
       "    </tr>\n",
       "    <tr>\n",
       "      <th>1</th>\n",
       "      <td>002796</td>\n",
       "      <td>NaN</td>\n",
       "      <td>NaN</td>\n",
       "      <td>NaN</td>\n",
       "      <td>1960-07-01</td>\n",
       "    </tr>\n",
       "    <tr>\n",
       "      <th>2</th>\n",
       "      <td>007068</td>\n",
       "      <td>NaN</td>\n",
       "      <td>NaN</td>\n",
       "      <td>NaN</td>\n",
       "      <td>1960-07-01</td>\n",
       "    </tr>\n",
       "    <tr>\n",
       "      <th>3</th>\n",
       "      <td>006303</td>\n",
       "      <td>NaN</td>\n",
       "      <td>NaN</td>\n",
       "      <td>NaN</td>\n",
       "      <td>1960-07-01</td>\n",
       "    </tr>\n",
       "    <tr>\n",
       "      <th>4</th>\n",
       "      <td>005410</td>\n",
       "      <td>NaN</td>\n",
       "      <td>NaN</td>\n",
       "      <td>NaN</td>\n",
       "      <td>1960-07-01</td>\n",
       "    </tr>\n",
       "    <tr>\n",
       "      <th>...</th>\n",
       "      <td>...</td>\n",
       "      <td>...</td>\n",
       "      <td>...</td>\n",
       "      <td>...</td>\n",
       "      <td>...</td>\n",
       "    </tr>\n",
       "    <tr>\n",
       "      <th>549421</th>\n",
       "      <td>104833</td>\n",
       "      <td>NaN</td>\n",
       "      <td>NaN</td>\n",
       "      <td>NaN</td>\n",
       "      <td>2023-06-01</td>\n",
       "    </tr>\n",
       "    <tr>\n",
       "      <th>549422</th>\n",
       "      <td>183907</td>\n",
       "      <td>NaN</td>\n",
       "      <td>NaN</td>\n",
       "      <td>NaN</td>\n",
       "      <td>2023-06-01</td>\n",
       "    </tr>\n",
       "    <tr>\n",
       "      <th>549423</th>\n",
       "      <td>137611</td>\n",
       "      <td>NaN</td>\n",
       "      <td>NaN</td>\n",
       "      <td>NaN</td>\n",
       "      <td>2023-06-01</td>\n",
       "    </tr>\n",
       "    <tr>\n",
       "      <th>549424</th>\n",
       "      <td>037527</td>\n",
       "      <td>NaN</td>\n",
       "      <td>NaN</td>\n",
       "      <td>NaN</td>\n",
       "      <td>2023-06-01</td>\n",
       "    </tr>\n",
       "    <tr>\n",
       "      <th>549425</th>\n",
       "      <td>353945</td>\n",
       "      <td>NaN</td>\n",
       "      <td>NaN</td>\n",
       "      <td>NaN</td>\n",
       "      <td>2023-06-01</td>\n",
       "    </tr>\n",
       "  </tbody>\n",
       "</table>\n",
       "<p>549426 rows × 5 columns</p>\n",
       "</div>"
      ],
      "text/plain": [
       "         gvkey  bm  log_mktcap  beta sorting_date\n",
       "0       011358 NaN         NaN   NaN   1960-07-01\n",
       "1       002796 NaN         NaN   NaN   1960-07-01\n",
       "2       007068 NaN         NaN   NaN   1960-07-01\n",
       "3       006303 NaN         NaN   NaN   1960-07-01\n",
       "4       005410 NaN         NaN   NaN   1960-07-01\n",
       "...        ...  ..         ...   ...          ...\n",
       "549421  104833 NaN         NaN   NaN   2023-06-01\n",
       "549422  183907 NaN         NaN   NaN   2023-06-01\n",
       "549423  137611 NaN         NaN   NaN   2023-06-01\n",
       "549424  037527 NaN         NaN   NaN   2023-06-01\n",
       "549425  353945 NaN         NaN   NaN   2023-06-01\n",
       "\n",
       "[549426 rows x 5 columns]"
      ]
     },
     "execution_count": 4,
     "metadata": {},
     "output_type": "execute_result"
    }
   ],
   "source": [
    "# 处理公司特征数据\n",
    "\n",
    "compustat['month'] = pd.to_datetime(compustat['datadate']).dt.to_period('M').dt.to_timestamp()\n",
    "#r语言中向下取整，python可以转为月份格式再取时间戳得到相同功能\n",
    "\n",
    "characteristics = pd.merge(compustat, crsp_monthly, on=['gvkey', 'month'], how='left')#股票收益数据集合并到公司特征集\n",
    "characteristics = pd.merge(characteristics, beta, on=['permno', 'month'], how='left')#再和beta合并\n",
    "characteristics['bm'] = characteristics['be'] / characteristics['mktcap']#得到bm\n",
    "characteristics['log_mktcap'] = np.log(characteristics['mktcap'])#计算得到size\n",
    "characteristics['sorting_date'] = characteristics['month'] + pd.DateOffset(months=6)\n",
    "#因为年报最晚6个月后公布，因此为避免前瞻性偏误，设定一个延后6个月的日期，在该日期时才能使用对应数据\n",
    "\n",
    "characteristics = characteristics[[\"gvkey\", \"bm\", \"log_mktcap\",\"beta_monthly\", \"sorting_date\"]].rename(columns={\"beta_monthly\": \"beta\"})\n",
    "characteristics"
   ]
  },
  {
   "cell_type": "markdown",
   "metadata": {},
   "source": [
    " （4）生成Fama-MacBeth数据:\n",
    "\n",
    " 'ret_excess_lead', 'beta',  'bm','log_mktcap'"
   ]
  },
  {
   "cell_type": "code",
   "execution_count": 5,
   "metadata": {},
   "outputs": [
    {
     "data": {
      "text/html": [
       "<div>\n",
       "<style scoped>\n",
       "    .dataframe tbody tr th:only-of-type {\n",
       "        vertical-align: middle;\n",
       "    }\n",
       "\n",
       "    .dataframe tbody tr th {\n",
       "        vertical-align: top;\n",
       "    }\n",
       "\n",
       "    .dataframe thead th {\n",
       "        text-align: right;\n",
       "    }\n",
       "</style>\n",
       "<table border=\"1\" class=\"dataframe\">\n",
       "  <thead>\n",
       "    <tr style=\"text-align: right;\">\n",
       "      <th></th>\n",
       "      <th>permno</th>\n",
       "      <th>month</th>\n",
       "      <th>ret_excess_lead</th>\n",
       "      <th>beta</th>\n",
       "      <th>bm</th>\n",
       "      <th>log_mktcap</th>\n",
       "      <th>mktcap_lag</th>\n",
       "    </tr>\n",
       "  </thead>\n",
       "  <tbody>\n",
       "    <tr>\n",
       "      <th>74</th>\n",
       "      <td>10001.0</td>\n",
       "      <td>1990-12-01</td>\n",
       "      <td>0.007958</td>\n",
       "      <td>0.081100</td>\n",
       "      <td>0.938894</td>\n",
       "      <td>2.307796</td>\n",
       "      <td>10.048500</td>\n",
       "    </tr>\n",
       "    <tr>\n",
       "      <th>75</th>\n",
       "      <td>10001.0</td>\n",
       "      <td>1991-01-01</td>\n",
       "      <td>0.008187</td>\n",
       "      <td>0.081100</td>\n",
       "      <td>0.938894</td>\n",
       "      <td>2.307796</td>\n",
       "      <td>10.013000</td>\n",
       "    </tr>\n",
       "    <tr>\n",
       "      <th>76</th>\n",
       "      <td>10001.0</td>\n",
       "      <td>1991-02-01</td>\n",
       "      <td>-0.015938</td>\n",
       "      <td>0.081100</td>\n",
       "      <td>0.938894</td>\n",
       "      <td>2.307796</td>\n",
       "      <td>10.144750</td>\n",
       "    </tr>\n",
       "    <tr>\n",
       "      <th>77</th>\n",
       "      <td>10001.0</td>\n",
       "      <td>1991-03-01</td>\n",
       "      <td>0.034174</td>\n",
       "      <td>0.081100</td>\n",
       "      <td>0.938894</td>\n",
       "      <td>2.307796</td>\n",
       "      <td>10.276500</td>\n",
       "    </tr>\n",
       "    <tr>\n",
       "      <th>78</th>\n",
       "      <td>10001.0</td>\n",
       "      <td>1991-04-01</td>\n",
       "      <td>-0.004700</td>\n",
       "      <td>0.081100</td>\n",
       "      <td>0.938894</td>\n",
       "      <td>2.307796</td>\n",
       "      <td>10.013000</td>\n",
       "    </tr>\n",
       "    <tr>\n",
       "      <th>...</th>\n",
       "      <td>...</td>\n",
       "      <td>...</td>\n",
       "      <td>...</td>\n",
       "      <td>...</td>\n",
       "      <td>...</td>\n",
       "      <td>...</td>\n",
       "      <td>...</td>\n",
       "    </tr>\n",
       "    <tr>\n",
       "      <th>3326347</th>\n",
       "      <td>93436.0</td>\n",
       "      <td>2022-07-01</td>\n",
       "      <td>-0.074389</td>\n",
       "      <td>1.993018</td>\n",
       "      <td>0.027663</td>\n",
       "      <td>13.903696</td>\n",
       "      <td>701030.202209</td>\n",
       "    </tr>\n",
       "    <tr>\n",
       "      <th>3326348</th>\n",
       "      <td>93436.0</td>\n",
       "      <td>2022-08-01</td>\n",
       "      <td>-0.039489</td>\n",
       "      <td>1.993018</td>\n",
       "      <td>0.027663</td>\n",
       "      <td>13.903696</td>\n",
       "      <td>931110.623250</td>\n",
       "    </tr>\n",
       "    <tr>\n",
       "      <th>3326349</th>\n",
       "      <td>93436.0</td>\n",
       "      <td>2022-09-01</td>\n",
       "      <td>-0.144468</td>\n",
       "      <td>1.993018</td>\n",
       "      <td>0.027663</td>\n",
       "      <td>13.903696</td>\n",
       "      <td>863615.620800</td>\n",
       "    </tr>\n",
       "    <tr>\n",
       "      <th>3326350</th>\n",
       "      <td>93436.0</td>\n",
       "      <td>2022-10-01</td>\n",
       "      <td>-0.147226</td>\n",
       "      <td>1.993018</td>\n",
       "      <td>0.027663</td>\n",
       "      <td>13.903696</td>\n",
       "      <td>837659.500000</td>\n",
       "    </tr>\n",
       "    <tr>\n",
       "      <th>3326351</th>\n",
       "      <td>93436.0</td>\n",
       "      <td>2022-11-01</td>\n",
       "      <td>-0.370634</td>\n",
       "      <td>1.993018</td>\n",
       "      <td>0.027663</td>\n",
       "      <td>13.903696</td>\n",
       "      <td>718514.868879</td>\n",
       "    </tr>\n",
       "  </tbody>\n",
       "</table>\n",
       "<p>1949242 rows × 7 columns</p>\n",
       "</div>"
      ],
      "text/plain": [
       "          permno      month  ret_excess_lead      beta        bm  log_mktcap  \\\n",
       "74       10001.0 1990-12-01         0.007958  0.081100  0.938894    2.307796   \n",
       "75       10001.0 1991-01-01         0.008187  0.081100  0.938894    2.307796   \n",
       "76       10001.0 1991-02-01        -0.015938  0.081100  0.938894    2.307796   \n",
       "77       10001.0 1991-03-01         0.034174  0.081100  0.938894    2.307796   \n",
       "78       10001.0 1991-04-01        -0.004700  0.081100  0.938894    2.307796   \n",
       "...          ...        ...              ...       ...       ...         ...   \n",
       "3326347  93436.0 2022-07-01        -0.074389  1.993018  0.027663   13.903696   \n",
       "3326348  93436.0 2022-08-01        -0.039489  1.993018  0.027663   13.903696   \n",
       "3326349  93436.0 2022-09-01        -0.144468  1.993018  0.027663   13.903696   \n",
       "3326350  93436.0 2022-10-01        -0.147226  1.993018  0.027663   13.903696   \n",
       "3326351  93436.0 2022-11-01        -0.370634  1.993018  0.027663   13.903696   \n",
       "\n",
       "            mktcap_lag  \n",
       "74           10.048500  \n",
       "75           10.013000  \n",
       "76           10.144750  \n",
       "77           10.276500  \n",
       "78           10.013000  \n",
       "...                ...  \n",
       "3326347  701030.202209  \n",
       "3326348  931110.623250  \n",
       "3326349  863615.620800  \n",
       "3326350  837659.500000  \n",
       "3326351  718514.868879  \n",
       "\n",
       "[1949242 rows x 7 columns]"
      ]
     },
     "execution_count": 5,
     "metadata": {},
     "output_type": "execute_result"
    }
   ],
   "source": [
    "# 生成Fama-MacBeth数据\n",
    "\n",
    "#根据sorting_date将公司特征集合并到股票收益集\n",
    "data_fama_macbeth = pd.merge(crsp_monthly, characteristics, left_on=['gvkey', 'month'], right_on=['gvkey', 'sorting_date'], how='left')\n",
    "\n",
    "data_fama_macbeth = data_fama_macbeth.sort_values(by=['permno', 'month'])\n",
    "\n",
    "#将前一年的数据空值填充\n",
    "data_fama_macbeth[['beta', 'bm', 'log_mktcap']] = data_fama_macbeth.groupby(\"permno\")[['beta', 'bm', 'log_mktcap']].fillna(method='ffill')\n",
    "\n",
    "#t月的beta,bm,size对应t+1月的收益率\n",
    "crsp_monthly_lead = (crsp_monthly.loc[:, ['permno', 'month', 'ret_excess']]\n",
    "                    .assign(month=lambda x: x['month'] - pd.DateOffset(months=1))).rename(columns={\"ret_excess\": \"ret_excess_lead\"})\n",
    "data_fama_macbeth = pd.merge(data_fama_macbeth,crsp_monthly_lead,on=['permno', 'month'],how='left')\n",
    "\n",
    "data_fama_macbeth = data_fama_macbeth[['permno', 'month', 'ret_excess_lead', 'beta',  'bm','log_mktcap','mktcap_lag']].dropna()\n",
    "#问题：这里的beta由于先和公司特征匹配再填充，损失了很多值？使用原始beta做稳健性发现beta系数变大，但依然十分不显著\n",
    "data_fama_macbeth"
   ]
  },
  {
   "cell_type": "code",
   "execution_count": 6,
   "metadata": {},
   "outputs": [],
   "source": [
    "data_fama_macbeth_copy=data_fama_macbeth ## 这里加一个copy，方便后面练习二三使用"
   ]
  },
  {
   "cell_type": "markdown",
   "metadata": {},
   "source": [
    "## 2. FM回归\n",
    "### step1 横截面回归\n",
    "在每个月进行OLS横截面回归"
   ]
  },
  {
   "cell_type": "code",
   "execution_count": 7,
   "metadata": {},
   "outputs": [
    {
     "data": {
      "text/html": [
       "<div>\n",
       "<style scoped>\n",
       "    .dataframe tbody tr th:only-of-type {\n",
       "        vertical-align: middle;\n",
       "    }\n",
       "\n",
       "    .dataframe tbody tr th {\n",
       "        vertical-align: top;\n",
       "    }\n",
       "\n",
       "    .dataframe thead th {\n",
       "        text-align: right;\n",
       "    }\n",
       "</style>\n",
       "<table border=\"1\" class=\"dataframe\">\n",
       "  <thead>\n",
       "    <tr style=\"text-align: right;\">\n",
       "      <th></th>\n",
       "      <th>Intercept</th>\n",
       "      <th>beta</th>\n",
       "      <th>bm</th>\n",
       "      <th>log_mktcap</th>\n",
       "    </tr>\n",
       "  </thead>\n",
       "  <tbody>\n",
       "    <tr>\n",
       "      <th>0</th>\n",
       "      <td>0.041592</td>\n",
       "      <td>-0.034635</td>\n",
       "      <td>0.027157</td>\n",
       "      <td>-0.001710</td>\n",
       "    </tr>\n",
       "    <tr>\n",
       "      <th>1</th>\n",
       "      <td>-0.013122</td>\n",
       "      <td>0.002502</td>\n",
       "      <td>0.007309</td>\n",
       "      <td>0.005275</td>\n",
       "    </tr>\n",
       "    <tr>\n",
       "      <th>2</th>\n",
       "      <td>-0.079722</td>\n",
       "      <td>0.029901</td>\n",
       "      <td>0.023318</td>\n",
       "      <td>0.008490</td>\n",
       "    </tr>\n",
       "    <tr>\n",
       "      <th>3</th>\n",
       "      <td>0.086708</td>\n",
       "      <td>-0.038654</td>\n",
       "      <td>-0.032397</td>\n",
       "      <td>-0.003647</td>\n",
       "    </tr>\n",
       "    <tr>\n",
       "      <th>4</th>\n",
       "      <td>-0.027339</td>\n",
       "      <td>0.011859</td>\n",
       "      <td>0.009438</td>\n",
       "      <td>0.000382</td>\n",
       "    </tr>\n",
       "    <tr>\n",
       "      <th>...</th>\n",
       "      <td>...</td>\n",
       "      <td>...</td>\n",
       "      <td>...</td>\n",
       "      <td>...</td>\n",
       "    </tr>\n",
       "    <tr>\n",
       "      <th>696</th>\n",
       "      <td>0.059798</td>\n",
       "      <td>0.007046</td>\n",
       "      <td>-0.003936</td>\n",
       "      <td>-0.010263</td>\n",
       "    </tr>\n",
       "    <tr>\n",
       "      <th>697</th>\n",
       "      <td>-0.137040</td>\n",
       "      <td>-0.019313</td>\n",
       "      <td>-0.003850</td>\n",
       "      <td>0.007235</td>\n",
       "    </tr>\n",
       "    <tr>\n",
       "      <th>698</th>\n",
       "      <td>-0.080569</td>\n",
       "      <td>0.029282</td>\n",
       "      <td>0.039173</td>\n",
       "      <td>0.014634</td>\n",
       "    </tr>\n",
       "    <tr>\n",
       "      <th>699</th>\n",
       "      <td>-0.097512</td>\n",
       "      <td>0.002875</td>\n",
       "      <td>0.004902</td>\n",
       "      <td>0.015787</td>\n",
       "    </tr>\n",
       "    <tr>\n",
       "      <th>700</th>\n",
       "      <td>-0.032145</td>\n",
       "      <td>-0.020398</td>\n",
       "      <td>0.002945</td>\n",
       "      <td>0.000035</td>\n",
       "    </tr>\n",
       "  </tbody>\n",
       "</table>\n",
       "<p>701 rows × 4 columns</p>\n",
       "</div>"
      ],
      "text/plain": [
       "     Intercept      beta        bm  log_mktcap\n",
       "0     0.041592 -0.034635  0.027157   -0.001710\n",
       "1    -0.013122  0.002502  0.007309    0.005275\n",
       "2    -0.079722  0.029901  0.023318    0.008490\n",
       "3     0.086708 -0.038654 -0.032397   -0.003647\n",
       "4    -0.027339  0.011859  0.009438    0.000382\n",
       "..         ...       ...       ...         ...\n",
       "696   0.059798  0.007046 -0.003936   -0.010263\n",
       "697  -0.137040 -0.019313 -0.003850    0.007235\n",
       "698  -0.080569  0.029282  0.039173    0.014634\n",
       "699  -0.097512  0.002875  0.004902    0.015787\n",
       "700  -0.032145 -0.020398  0.002945    0.000035\n",
       "\n",
       "[701 rows x 4 columns]"
      ]
     },
     "execution_count": 7,
     "metadata": {},
     "output_type": "execute_result"
    }
   ],
   "source": [
    "import statsmodels.api as sm\n",
    "def fm1_reg(data):\n",
    "    formula = 'ret_excess_lead ~ beta + bm + log_mktcap'\n",
    "    model = sm.OLS.from_formula(formula, data=data)\n",
    "    return model.fit().params\n",
    "\n",
    "# 对每个月份应用回归\n",
    "risk_premiums = data_fama_macbeth.groupby('month').apply(fm1_reg).reset_index(drop = 'True')\n",
    "risk_premiums"
   ]
  },
  {
   "cell_type": "markdown",
   "metadata": {},
   "source": [
    "### step2 计算时序均值\n",
    "随后使用mean/标准误得到t值"
   ]
  },
  {
   "cell_type": "code",
   "execution_count": 8,
   "metadata": {},
   "outputs": [
    {
     "data": {
      "text/html": [
       "<div>\n",
       "<style scoped>\n",
       "    .dataframe tbody tr th:only-of-type {\n",
       "        vertical-align: middle;\n",
       "    }\n",
       "\n",
       "    .dataframe tbody tr th {\n",
       "        vertical-align: top;\n",
       "    }\n",
       "\n",
       "    .dataframe thead th {\n",
       "        text-align: right;\n",
       "    }\n",
       "</style>\n",
       "<table border=\"1\" class=\"dataframe\">\n",
       "  <thead>\n",
       "    <tr style=\"text-align: right;\">\n",
       "      <th></th>\n",
       "      <th>mean_values</th>\n",
       "      <th>t_values</th>\n",
       "    </tr>\n",
       "  </thead>\n",
       "  <tbody>\n",
       "    <tr>\n",
       "      <th>Intercept</th>\n",
       "      <td>1.215502</td>\n",
       "      <td>4.771331</td>\n",
       "    </tr>\n",
       "    <tr>\n",
       "      <th>beta</th>\n",
       "      <td>0.005146</td>\n",
       "      <td>0.049929</td>\n",
       "    </tr>\n",
       "    <tr>\n",
       "      <th>bm</th>\n",
       "      <td>0.150568</td>\n",
       "      <td>3.222465</td>\n",
       "    </tr>\n",
       "    <tr>\n",
       "      <th>log_mktcap</th>\n",
       "      <td>-0.104206</td>\n",
       "      <td>-2.941909</td>\n",
       "    </tr>\n",
       "  </tbody>\n",
       "</table>\n",
       "</div>"
      ],
      "text/plain": [
       "            mean_values  t_values\n",
       "Intercept      1.215502  4.771331\n",
       "beta           0.005146  0.049929\n",
       "bm             0.150568  3.222465\n",
       "log_mktcap    -0.104206 -2.941909"
      ]
     },
     "execution_count": 8,
     "metadata": {},
     "output_type": "execute_result"
    }
   ],
   "source": [
    "summary_df = pd.DataFrame({'mean_values': risk_premiums.mean()*100, 't_values': (risk_premiums.mean() / risk_premiums.std()) * (len(risk_premiums)**0.5)})\n",
    "summary_df"
   ]
  },
  {
   "cell_type": "markdown",
   "metadata": {},
   "source": [
    "进行NW调整，设为滞后6阶。与r结果不一样的原因是r使用了“NeweyWest(.)”，没有设置滞后阶数而是根据Bartlett方法估计，且进行了prewhite处理。\n",
    "\n",
    "若r使用NeweyWest(., lag = 6, prewhite = FALSE)则可得到与以下python代码一样的结果\n",
    "\n",
    "原理：https://blog.csdn.net/weixin_40628687/article/details/88955575"
   ]
  },
  {
   "cell_type": "code",
   "execution_count": 9,
   "metadata": {},
   "outputs": [
    {
     "data": {
      "text/html": [
       "<div>\n",
       "<style scoped>\n",
       "    .dataframe tbody tr th:only-of-type {\n",
       "        vertical-align: middle;\n",
       "    }\n",
       "\n",
       "    .dataframe tbody tr th {\n",
       "        vertical-align: top;\n",
       "    }\n",
       "\n",
       "    .dataframe thead th {\n",
       "        text-align: right;\n",
       "    }\n",
       "</style>\n",
       "<table border=\"1\" class=\"dataframe\">\n",
       "  <thead>\n",
       "    <tr style=\"text-align: right;\">\n",
       "      <th></th>\n",
       "      <th>mean_values</th>\n",
       "      <th>t_values</th>\n",
       "      <th>NW_t</th>\n",
       "    </tr>\n",
       "  </thead>\n",
       "  <tbody>\n",
       "    <tr>\n",
       "      <th>Intercept</th>\n",
       "      <td>1.215502</td>\n",
       "      <td>4.771331</td>\n",
       "      <td>4.125457</td>\n",
       "    </tr>\n",
       "    <tr>\n",
       "      <th>beta</th>\n",
       "      <td>0.005146</td>\n",
       "      <td>0.049929</td>\n",
       "      <td>0.045422</td>\n",
       "    </tr>\n",
       "    <tr>\n",
       "      <th>bm</th>\n",
       "      <td>0.150568</td>\n",
       "      <td>3.222465</td>\n",
       "      <td>2.809913</td>\n",
       "    </tr>\n",
       "    <tr>\n",
       "      <th>log_mktcap</th>\n",
       "      <td>-0.104206</td>\n",
       "      <td>-2.941909</td>\n",
       "      <td>-2.768976</td>\n",
       "    </tr>\n",
       "  </tbody>\n",
       "</table>\n",
       "</div>"
      ],
      "text/plain": [
       "            mean_values  t_values      NW_t\n",
       "Intercept      1.215502  4.771331  4.125457\n",
       "beta           0.005146  0.049929  0.045422\n",
       "bm             0.150568  3.222465  2.809913\n",
       "log_mktcap    -0.104206 -2.941909 -2.768976"
      ]
     },
     "execution_count": 9,
     "metadata": {},
     "output_type": "execute_result"
    }
   ],
   "source": [
    "summary_df['NW_t']  = [sm.OLS.from_formula(f'{factor}  ~ 1', data=risk_premiums).fit(cov_type=\"HAC\", cov_kwds={'maxlags': 6}).tvalues[0] for factor in risk_premiums.columns]\n",
    "summary_df"
   ]
  },
  {
   "cell_type": "markdown",
   "metadata": {},
   "source": [
    "## 练习"
   ]
  },
  {
   "cell_type": "code",
   "execution_count": 10,
   "metadata": {},
   "outputs": [
    {
     "data": {
      "text/html": [
       "<div>\n",
       "<style scoped>\n",
       "    .dataframe tbody tr th:only-of-type {\n",
       "        vertical-align: middle;\n",
       "    }\n",
       "\n",
       "    .dataframe tbody tr th {\n",
       "        vertical-align: top;\n",
       "    }\n",
       "\n",
       "    .dataframe thead th {\n",
       "        text-align: right;\n",
       "    }\n",
       "</style>\n",
       "<table border=\"1\" class=\"dataframe\">\n",
       "  <thead>\n",
       "    <tr style=\"text-align: right;\">\n",
       "      <th></th>\n",
       "      <th>mean_values</th>\n",
       "      <th>t_values</th>\n",
       "      <th>NW_t</th>\n",
       "    </tr>\n",
       "  </thead>\n",
       "  <tbody>\n",
       "    <tr>\n",
       "      <th>Intercept</th>\n",
       "      <td>1.215502</td>\n",
       "      <td>4.771331</td>\n",
       "      <td>4.125457</td>\n",
       "    </tr>\n",
       "    <tr>\n",
       "      <th>beta</th>\n",
       "      <td>0.005146</td>\n",
       "      <td>0.049929</td>\n",
       "      <td>0.045422</td>\n",
       "    </tr>\n",
       "    <tr>\n",
       "      <th>bm</th>\n",
       "      <td>0.150568</td>\n",
       "      <td>3.222465</td>\n",
       "      <td>2.809913</td>\n",
       "    </tr>\n",
       "    <tr>\n",
       "      <th>log_mktcap</th>\n",
       "      <td>-0.104206</td>\n",
       "      <td>-2.941909</td>\n",
       "      <td>-2.768976</td>\n",
       "    </tr>\n",
       "  </tbody>\n",
       "</table>\n",
       "</div>"
      ],
      "text/plain": [
       "            mean_values  t_values      NW_t\n",
       "Intercept      1.215502  4.771331  4.125457\n",
       "beta           0.005146  0.049929  0.045422\n",
       "bm             0.150568  3.222465  2.809913\n",
       "log_mktcap    -0.104206 -2.941909 -2.768976"
      ]
     },
     "execution_count": 10,
     "metadata": {},
     "output_type": "execute_result"
    }
   ],
   "source": [
    "## 为横截面回归以及数据整个编写一个函数，方便练习使用_石宛青\n",
    "def run_fama_macbeth_swq(data, formula, weight=0):\n",
    "    if weight == 0:\n",
    "        risk_premiums = data.groupby('month').apply(lambda x:sm.OLS.from_formula(formula, data=x).fit().params).reset_index(drop=True)\n",
    "    else:\n",
    "        risk_premiums = data.groupby('month').apply(lambda x:sm.WLS.from_formula(formula, data=x,weights=x['mktcap_lag']).fit().params).reset_index(drop=True)\n",
    "   \n",
    "    summary_df = pd.DataFrame({\n",
    "        'mean_values': risk_premiums.mean() * 100,\n",
    "        't_values': (risk_premiums.mean() / risk_premiums.std()) * (len(risk_premiums) ** 0.5)})\n",
    "\n",
    "    # NW_t values\n",
    "    summary_df['NW_t'] = [sm.OLS.from_formula(f'{factor}  ~ 1', data=risk_premiums).fit(cov_type=\"HAC\", cov_kwds={'maxlags': 6}).tvalues[0] for factor in risk_premiums.columns]\n",
    "\n",
    "    return summary_df\n",
    "\n",
    "result = run_fama_macbeth_swq(data_fama_macbeth,'ret_excess_lead ~ beta + bm + log_mktcap')\n",
    "result"
   ]
  },
  {
   "cell_type": "code",
   "execution_count": 11,
   "metadata": {},
   "outputs": [],
   "source": [
    "## 为横截面回归以及数据整个编写一个函数，方便练习使用_王梦涵\n",
    "def csr_tsagg(data,formula,weight):\n",
    "    if weight == 0:\n",
    "        risk_premiums  = (data\n",
    "                          .groupby(\"month\",group_keys=False)\n",
    "                          .apply(lambda x: sm.OLS.from_formula(formula=formula, data=x).fit().params)  \n",
    "                          .reset_index())\n",
    "    else:\n",
    "        risk_premiums = (data_fama_macbeth\n",
    "                         .groupby(\"month\", group_keys=False)\n",
    "                         .apply(lambda x: sm.WLS.from_formula(formula=formula, data=x, weights=x['mktcap_lag']).fit().params)\n",
    "                         .reset_index())\n",
    "    \n",
    "    risk_premiums = (risk_premiums\n",
    "                 .melt(id_vars=\"month\",\n",
    "                       var_name=\"factor\",\n",
    "                       value_name=\"estimate\"))\n",
    "    price_of_risk= (risk_premiums\n",
    "                    .groupby(\"factor\",group_keys=False)\n",
    "                    .aggregate(risk_premium =(\"estimate\", lambda x: np.mean(x)*100),\n",
    "                               t_statistic = (\"estimate\", lambda x: np.mean(x)/np.std(x)*len(x)**0.5)\n",
    "                               )\n",
    "                    .reset_index())\n",
    "    \n",
    "    price_of_risk_newey_west = (risk_premiums\n",
    "                                .groupby(\"factor\",group_keys=False)\n",
    "                                .apply(lambda x: x.assign(t_statistic_newey_west = sm.OLS.from_formula(formula=\"estimate~1\", data=x).fit().tvalues[0])\n",
    "                                                        .tail(1))\n",
    "                                .get([\"factor\",\"t_statistic_newey_west\"])\n",
    "                                .reset_index(drop=True))\n",
    "    \n",
    "    result = (price_of_risk\n",
    "              .merge(price_of_risk_newey_west,\n",
    "                     how=\"left\",\n",
    "                     on=[\"factor\"]))\n",
    "    \n",
    "    return result"
   ]
  },
  {
   "cell_type": "code",
   "execution_count": 12,
   "metadata": {},
   "outputs": [
    {
     "data": {
      "text/html": [
       "<div>\n",
       "<style scoped>\n",
       "    .dataframe tbody tr th:only-of-type {\n",
       "        vertical-align: middle;\n",
       "    }\n",
       "\n",
       "    .dataframe tbody tr th {\n",
       "        vertical-align: top;\n",
       "    }\n",
       "\n",
       "    .dataframe thead th {\n",
       "        text-align: right;\n",
       "    }\n",
       "</style>\n",
       "<table border=\"1\" class=\"dataframe\">\n",
       "  <thead>\n",
       "    <tr style=\"text-align: right;\">\n",
       "      <th></th>\n",
       "      <th>factor</th>\n",
       "      <th>risk_premium</th>\n",
       "      <th>t_statistic</th>\n",
       "      <th>t_statistic_newey_west</th>\n",
       "    </tr>\n",
       "  </thead>\n",
       "  <tbody>\n",
       "    <tr>\n",
       "      <th>0</th>\n",
       "      <td>Intercept</td>\n",
       "      <td>1.215502</td>\n",
       "      <td>4.774738</td>\n",
       "      <td>4.125457</td>\n",
       "    </tr>\n",
       "    <tr>\n",
       "      <th>1</th>\n",
       "      <td>beta</td>\n",
       "      <td>0.005146</td>\n",
       "      <td>0.049965</td>\n",
       "      <td>0.045422</td>\n",
       "    </tr>\n",
       "    <tr>\n",
       "      <th>2</th>\n",
       "      <td>bm</td>\n",
       "      <td>0.150568</td>\n",
       "      <td>3.224766</td>\n",
       "      <td>2.809913</td>\n",
       "    </tr>\n",
       "    <tr>\n",
       "      <th>3</th>\n",
       "      <td>log_mktcap</td>\n",
       "      <td>-0.104206</td>\n",
       "      <td>-2.944009</td>\n",
       "      <td>-2.768976</td>\n",
       "    </tr>\n",
       "  </tbody>\n",
       "</table>\n",
       "</div>"
      ],
      "text/plain": [
       "       factor  risk_premium  t_statistic  t_statistic_newey_west\n",
       "0   Intercept      1.215502     4.774738                4.125457\n",
       "1        beta      0.005146     0.049965                0.045422\n",
       "2          bm      0.150568     3.224766                2.809913\n",
       "3  log_mktcap     -0.104206    -2.944009               -2.768976"
      ]
     },
     "execution_count": 12,
     "metadata": {},
     "output_type": "execute_result"
    }
   ],
   "source": [
    "csr_tsagg(data_fama_macbeth,formula=\"ret_excess_lead ~ beta + log_mktcap + bm\",weight=0)"
   ]
  },
  {
   "cell_type": "markdown",
   "metadata": {},
   "source": [
    "### 练习一"
   ]
  },
  {
   "cell_type": "markdown",
   "metadata": {},
   "source": [
    "本节我们使用个股作为资产来估计风险溢价，接下来我们从 Kenneth French主页下载一个资产的样本，尝试使用行业投资组合来计算风险溢价"
   ]
  },
  {
   "cell_type": "markdown",
   "metadata": {},
   "source": [
    "##### 选择我们之前下载过的十行业\n"
   ]
  },
  {
   "cell_type": "code",
   "execution_count": 13,
   "metadata": {},
   "outputs": [],
   "source": [
    "industries_ff_monthly = pd.read_sql_query(\"SELECT * FROM industries_ff_monthly\",\n",
    "                                          con=tidy_finance,\n",
    "                                          parse_dates={\"month\"})"
   ]
  },
  {
   "cell_type": "code",
   "execution_count": 14,
   "metadata": {},
   "outputs": [],
   "source": [
    "## 宽数据转化为长数据方便后续操作\n",
    "industries_ff_monthly = (industries_ff_monthly\n",
    " .melt(id_vars=\"month\",\n",
    "       var_name = \"industry\",\n",
    "       value_name=\"ret\"\n",
    "       ))"
   ]
  },
  {
   "cell_type": "code",
   "execution_count": 15,
   "metadata": {},
   "outputs": [],
   "source": [
    "factors_ff3_monthly = pd.read_sql_query(sql=\"SELECT * FROM factors_ff3_monthly\",\n",
    "                                        con=tidy_finance,\n",
    "                                        parse_dates={\"month\"})"
   ]
  },
  {
   "cell_type": "code",
   "execution_count": 16,
   "metadata": {},
   "outputs": [],
   "source": [
    "industries_ff_monthly = (industries_ff_monthly\n",
    "                        .merge(factors_ff3_monthly,\n",
    "                               how=\"left\",\n",
    "                               on=\"month\")\n",
    "                        .assign(ret_excess=lambda x: (x[\"ret\"]-x[\"rf\"]))\n",
    "                        .drop([\"ret\",\"rf\"],axis=1))"
   ]
  },
  {
   "cell_type": "code",
   "execution_count": 17,
   "metadata": {},
   "outputs": [
    {
     "data": {
      "text/html": [
       "<div>\n",
       "<style scoped>\n",
       "    .dataframe tbody tr th:only-of-type {\n",
       "        vertical-align: middle;\n",
       "    }\n",
       "\n",
       "    .dataframe tbody tr th {\n",
       "        vertical-align: top;\n",
       "    }\n",
       "\n",
       "    .dataframe thead th {\n",
       "        text-align: right;\n",
       "    }\n",
       "</style>\n",
       "<table border=\"1\" class=\"dataframe\">\n",
       "  <thead>\n",
       "    <tr style=\"text-align: right;\">\n",
       "      <th></th>\n",
       "      <th>month</th>\n",
       "      <th>industry</th>\n",
       "      <th>mkt_excess</th>\n",
       "      <th>smb</th>\n",
       "      <th>hml</th>\n",
       "      <th>ret_excess</th>\n",
       "    </tr>\n",
       "  </thead>\n",
       "  <tbody>\n",
       "    <tr>\n",
       "      <th>0</th>\n",
       "      <td>1960-01-01</td>\n",
       "      <td>nodur</td>\n",
       "      <td>-0.0698</td>\n",
       "      <td>0.0209</td>\n",
       "      <td>0.0278</td>\n",
       "      <td>-0.0369</td>\n",
       "    </tr>\n",
       "    <tr>\n",
       "      <th>1</th>\n",
       "      <td>1960-02-01</td>\n",
       "      <td>nodur</td>\n",
       "      <td>0.0117</td>\n",
       "      <td>0.0051</td>\n",
       "      <td>-0.0193</td>\n",
       "      <td>0.0264</td>\n",
       "    </tr>\n",
       "    <tr>\n",
       "      <th>2</th>\n",
       "      <td>1960-03-01</td>\n",
       "      <td>nodur</td>\n",
       "      <td>-0.0163</td>\n",
       "      <td>-0.0049</td>\n",
       "      <td>-0.0294</td>\n",
       "      <td>-0.0176</td>\n",
       "    </tr>\n",
       "    <tr>\n",
       "      <th>3</th>\n",
       "      <td>1960-04-01</td>\n",
       "      <td>nodur</td>\n",
       "      <td>-0.0171</td>\n",
       "      <td>0.0032</td>\n",
       "      <td>-0.0228</td>\n",
       "      <td>0.0134</td>\n",
       "    </tr>\n",
       "    <tr>\n",
       "      <th>4</th>\n",
       "      <td>1960-05-01</td>\n",
       "      <td>nodur</td>\n",
       "      <td>0.0312</td>\n",
       "      <td>0.0121</td>\n",
       "      <td>-0.0370</td>\n",
       "      <td>0.0624</td>\n",
       "    </tr>\n",
       "    <tr>\n",
       "      <th>...</th>\n",
       "      <td>...</td>\n",
       "      <td>...</td>\n",
       "      <td>...</td>\n",
       "      <td>...</td>\n",
       "      <td>...</td>\n",
       "      <td>...</td>\n",
       "    </tr>\n",
       "    <tr>\n",
       "      <th>7555</th>\n",
       "      <td>2022-08-01</td>\n",
       "      <td>other</td>\n",
       "      <td>-0.0377</td>\n",
       "      <td>0.0140</td>\n",
       "      <td>0.0029</td>\n",
       "      <td>-0.0281</td>\n",
       "    </tr>\n",
       "    <tr>\n",
       "      <th>7556</th>\n",
       "      <td>2022-09-01</td>\n",
       "      <td>other</td>\n",
       "      <td>-0.0935</td>\n",
       "      <td>-0.0081</td>\n",
       "      <td>0.0005</td>\n",
       "      <td>-0.0824</td>\n",
       "    </tr>\n",
       "    <tr>\n",
       "      <th>7557</th>\n",
       "      <td>2022-10-01</td>\n",
       "      <td>other</td>\n",
       "      <td>0.0783</td>\n",
       "      <td>0.0006</td>\n",
       "      <td>0.0801</td>\n",
       "      <td>0.1143</td>\n",
       "    </tr>\n",
       "    <tr>\n",
       "      <th>7558</th>\n",
       "      <td>2022-11-01</td>\n",
       "      <td>other</td>\n",
       "      <td>0.0460</td>\n",
       "      <td>-0.0352</td>\n",
       "      <td>0.0138</td>\n",
       "      <td>0.0570</td>\n",
       "    </tr>\n",
       "    <tr>\n",
       "      <th>7559</th>\n",
       "      <td>2022-12-01</td>\n",
       "      <td>other</td>\n",
       "      <td>-0.0641</td>\n",
       "      <td>-0.0069</td>\n",
       "      <td>0.0137</td>\n",
       "      <td>-0.0570</td>\n",
       "    </tr>\n",
       "  </tbody>\n",
       "</table>\n",
       "<p>7560 rows × 6 columns</p>\n",
       "</div>"
      ],
      "text/plain": [
       "          month industry  mkt_excess     smb     hml  ret_excess\n",
       "0    1960-01-01    nodur     -0.0698  0.0209  0.0278     -0.0369\n",
       "1    1960-02-01    nodur      0.0117  0.0051 -0.0193      0.0264\n",
       "2    1960-03-01    nodur     -0.0163 -0.0049 -0.0294     -0.0176\n",
       "3    1960-04-01    nodur     -0.0171  0.0032 -0.0228      0.0134\n",
       "4    1960-05-01    nodur      0.0312  0.0121 -0.0370      0.0624\n",
       "...         ...      ...         ...     ...     ...         ...\n",
       "7555 2022-08-01    other     -0.0377  0.0140  0.0029     -0.0281\n",
       "7556 2022-09-01    other     -0.0935 -0.0081  0.0005     -0.0824\n",
       "7557 2022-10-01    other      0.0783  0.0006  0.0801      0.1143\n",
       "7558 2022-11-01    other      0.0460 -0.0352  0.0138      0.0570\n",
       "7559 2022-12-01    other     -0.0641 -0.0069  0.0137     -0.0570\n",
       "\n",
       "[7560 rows x 6 columns]"
      ]
     },
     "execution_count": 17,
     "metadata": {},
     "output_type": "execute_result"
    }
   ],
   "source": [
    "industries_ff_monthly"
   ]
  },
  {
   "cell_type": "markdown",
   "metadata": {},
   "source": [
    "####  计算三个因子的风险暴露（使用滚动回归计算）\n"
   ]
  },
  {
   "cell_type": "markdown",
   "metadata": {},
   "source": [
    "编写滚动回归函数，相比beta那一节的函数增加了两个参数，一个是回归方程的类型，一个是资产类别（股票或者行业组合）"
   ]
  },
  {
   "cell_type": "code",
   "execution_count": 18,
   "metadata": {},
   "outputs": [],
   "source": [
    "from statsmodels.regression.rolling import RollingOLS"
   ]
  },
  {
   "cell_type": "code",
   "execution_count": 19,
   "metadata": {},
   "outputs": [],
   "source": [
    "def roll_capm_estimation(data, window_size, min_obs,formula,params,asset_type):\n",
    "    data=data.sort_values([\"month\"])\n",
    "\n",
    "    betas = (RollingOLS.from_formula(formula = formula, \n",
    "                                    data = data, \n",
    "                                    window = window_size,\n",
    "                                    min_nobs=min_obs)\n",
    "             .fit()\n",
    "             .params[params])\n",
    "    \n",
    "    return pd.DataFrame({\n",
    "        'month': data['month'],\n",
    "        asset_type : data[asset_type],\n",
    "        'beta': betas})"
   ]
  },
  {
   "cell_type": "markdown",
   "metadata": {},
   "source": [
    "1. 市场因子"
   ]
  },
  {
   "cell_type": "code",
   "execution_count": 20,
   "metadata": {},
   "outputs": [],
   "source": [
    "beta_mkt = (industries_ff_monthly\n",
    "              .groupby([\"industry\"],group_keys=False)\n",
    "              .apply(roll_capm_estimation,window_size = 60, min_obs = 48,formula=\"ret_excess~mkt_excess\",params=\"mkt_excess\",asset_type=\"industry\")\n",
    "              .dropna()\n",
    "              .rename(columns={\"beta\": \"beta_mkt\"})\n",
    "              )              "
   ]
  },
  {
   "cell_type": "markdown",
   "metadata": {},
   "source": [
    "2. 规模因子"
   ]
  },
  {
   "cell_type": "code",
   "execution_count": 21,
   "metadata": {},
   "outputs": [],
   "source": [
    "beta_smb = (industries_ff_monthly\n",
    "              .groupby([\"industry\"],group_keys=False)\n",
    "              .apply(roll_capm_estimation,window_size = 60, min_obs = 48,formula=\"ret_excess~smb\",params=\"smb\",asset_type=\"industry\")\n",
    "              .dropna()\n",
    "              .rename(columns={\"beta\": \"beta_smb\"})\n",
    "              )              "
   ]
  },
  {
   "cell_type": "markdown",
   "metadata": {},
   "source": [
    "3. 价值因子"
   ]
  },
  {
   "cell_type": "code",
   "execution_count": 22,
   "metadata": {},
   "outputs": [],
   "source": [
    "beta_hml = (industries_ff_monthly\n",
    "              .groupby([\"industry\"],group_keys=False)\n",
    "              .apply(roll_capm_estimation,window_size = 60, min_obs = 48,formula=\"ret_excess~hml\",params=\"hml\",asset_type=\"industry\")\n",
    "              .dropna()\n",
    "              .rename(columns={\"beta\": \"beta_hml\"})\n",
    "              )             "
   ]
  },
  {
   "cell_type": "code",
   "execution_count": 23,
   "metadata": {},
   "outputs": [],
   "source": [
    "## 合并风险暴露beta\n",
    "beta_factors = (beta_mkt\n",
    "                .merge(beta_smb,\n",
    "                       how=\"left\",\n",
    "                       on=[\"month\",\"industry\"])\n",
    "                .merge(beta_hml,\n",
    "                       how=\"left\",\n",
    "                       on=[\"month\",\"industry\"])\n",
    "                .assign(month = lambda x: x[\"month\"]+pd.DateOffset(months=1)))  ## 因为滚动回归将数据结果放在窗口的最后一期，所以将beta滞后一期，避免出现下面第三题提到的前瞻性偏差"
   ]
  },
  {
   "cell_type": "code",
   "execution_count": 24,
   "metadata": {},
   "outputs": [],
   "source": [
    "data_fama_macbeth  = (industries_ff_monthly\n",
    "                           .get([\"month\",\"industry\",\"ret_excess\"])\n",
    "                           .rename(columns={\"ret_excess\":\"ret_excess_lead\"})\n",
    "                           .assign(month=lambda x: x[\"month\"]-pd.DateOffset(months=1))     ## 处理ret_excess为ret_excess_lead\n",
    "                           .merge(beta_factors,\n",
    "                                  how=\"left\",\n",
    "                                  on=[\"month\",\"industry\"])\n",
    "                           .dropna())     ## 因为滚动窗口回归，beta很多NA值"
   ]
  },
  {
   "cell_type": "markdown",
   "metadata": {},
   "source": [
    "##### 进行FM回归"
   ]
  },
  {
   "cell_type": "code",
   "execution_count": 25,
   "metadata": {},
   "outputs": [
    {
     "data": {
      "text/html": [
       "<div>\n",
       "<style scoped>\n",
       "    .dataframe tbody tr th:only-of-type {\n",
       "        vertical-align: middle;\n",
       "    }\n",
       "\n",
       "    .dataframe tbody tr th {\n",
       "        vertical-align: top;\n",
       "    }\n",
       "\n",
       "    .dataframe thead th {\n",
       "        text-align: right;\n",
       "    }\n",
       "</style>\n",
       "<table border=\"1\" class=\"dataframe\">\n",
       "  <thead>\n",
       "    <tr style=\"text-align: right;\">\n",
       "      <th></th>\n",
       "      <th>factor</th>\n",
       "      <th>risk_premium</th>\n",
       "      <th>t_statistic</th>\n",
       "      <th>t_statistic_newey_west</th>\n",
       "    </tr>\n",
       "  </thead>\n",
       "  <tbody>\n",
       "    <tr>\n",
       "      <th>0</th>\n",
       "      <td>Intercept</td>\n",
       "      <td>0.398215</td>\n",
       "      <td>1.553175</td>\n",
       "      <td>1.571744</td>\n",
       "    </tr>\n",
       "    <tr>\n",
       "      <th>1</th>\n",
       "      <td>beta_hml</td>\n",
       "      <td>0.130066</td>\n",
       "      <td>0.489303</td>\n",
       "      <td>0.465590</td>\n",
       "    </tr>\n",
       "    <tr>\n",
       "      <th>2</th>\n",
       "      <td>beta_mkt</td>\n",
       "      <td>-0.037324</td>\n",
       "      <td>-0.081560</td>\n",
       "      <td>-0.077571</td>\n",
       "    </tr>\n",
       "    <tr>\n",
       "      <th>3</th>\n",
       "      <td>beta_smb</td>\n",
       "      <td>0.520175</td>\n",
       "      <td>1.371739</td>\n",
       "      <td>1.558102</td>\n",
       "    </tr>\n",
       "  </tbody>\n",
       "</table>\n",
       "</div>"
      ],
      "text/plain": [
       "      factor  risk_premium  t_statistic  t_statistic_newey_west\n",
       "0  Intercept      0.398215     1.553175                1.571744\n",
       "1   beta_hml      0.130066     0.489303                0.465590\n",
       "2   beta_mkt     -0.037324    -0.081560               -0.077571\n",
       "3   beta_smb      0.520175     1.371739                1.558102"
      ]
     },
     "execution_count": 25,
     "metadata": {},
     "output_type": "execute_result"
    }
   ],
   "source": [
    "csr_tsagg(data_fama_macbeth,formula=\"ret_excess_lead ~ beta_mkt + beta_smb + beta_hml\",weight=0)"
   ]
  },
  {
   "cell_type": "markdown",
   "metadata": {},
   "source": [
    "### 练习二"
   ]
  },
  {
   "cell_type": "markdown",
   "metadata": {},
   "source": [
    "1. 使用基于公司规模的加权最小二乘回归计算风险溢价（Hou、Xue、Zhang，2020）\n",
    "2. 不进行权重调整，但删除每月规模最小的20%的公司\n",
    "3. 比较文章主体结果和上面两种方式的三种方式之间计算的风险溢价的不同"
   ]
  },
  {
   "cell_type": "code",
   "execution_count": 26,
   "metadata": {},
   "outputs": [],
   "source": [
    "data_fama_macbeth=data_fama_macbeth_copy"
   ]
  },
  {
   "cell_type": "code",
   "execution_count": 27,
   "metadata": {},
   "outputs": [
    {
     "data": {
      "text/html": [
       "<div>\n",
       "<style scoped>\n",
       "    .dataframe tbody tr th:only-of-type {\n",
       "        vertical-align: middle;\n",
       "    }\n",
       "\n",
       "    .dataframe tbody tr th {\n",
       "        vertical-align: top;\n",
       "    }\n",
       "\n",
       "    .dataframe thead th {\n",
       "        text-align: right;\n",
       "    }\n",
       "</style>\n",
       "<table border=\"1\" class=\"dataframe\">\n",
       "  <thead>\n",
       "    <tr style=\"text-align: right;\">\n",
       "      <th></th>\n",
       "      <th>factor</th>\n",
       "      <th>risk_premium</th>\n",
       "      <th>t_statistic</th>\n",
       "      <th>t_statistic_newey_west</th>\n",
       "    </tr>\n",
       "  </thead>\n",
       "  <tbody>\n",
       "    <tr>\n",
       "      <th>0</th>\n",
       "      <td>Intercept</td>\n",
       "      <td>1.076361</td>\n",
       "      <td>3.973785</td>\n",
       "      <td>3.953525</td>\n",
       "    </tr>\n",
       "    <tr>\n",
       "      <th>1</th>\n",
       "      <td>beta</td>\n",
       "      <td>-0.032167</td>\n",
       "      <td>-0.230120</td>\n",
       "      <td>-0.222392</td>\n",
       "    </tr>\n",
       "    <tr>\n",
       "      <th>2</th>\n",
       "      <td>bm</td>\n",
       "      <td>0.017898</td>\n",
       "      <td>0.168491</td>\n",
       "      <td>0.148133</td>\n",
       "    </tr>\n",
       "    <tr>\n",
       "      <th>3</th>\n",
       "      <td>log_mktcap</td>\n",
       "      <td>-0.057572</td>\n",
       "      <td>-2.382217</td>\n",
       "      <td>-2.311482</td>\n",
       "    </tr>\n",
       "  </tbody>\n",
       "</table>\n",
       "</div>"
      ],
      "text/plain": [
       "       factor  risk_premium  t_statistic  t_statistic_newey_west\n",
       "0   Intercept      1.076361     3.973785                3.953525\n",
       "1        beta     -0.032167    -0.230120               -0.222392\n",
       "2          bm      0.017898     0.168491                0.148133\n",
       "3  log_mktcap     -0.057572    -2.382217               -2.311482"
      ]
     },
     "execution_count": 27,
     "metadata": {},
     "output_type": "execute_result"
    }
   ],
   "source": [
    "csr_tsagg(data_fama_macbeth,formula=\"ret_excess_lead ~ beta + log_mktcap + bm\",weight=1)"
   ]
  },
  {
   "cell_type": "markdown",
   "metadata": {},
   "source": [
    "删除每月市值后20%的数据，进行FM回归\n"
   ]
  },
  {
   "cell_type": "code",
   "execution_count": 28,
   "metadata": {},
   "outputs": [],
   "source": [
    "data_fama_macbeth = (data_fama_macbeth\n",
    " .groupby(\"month\",group_keys=False)\n",
    " .apply(lambda x: x.assign(larger=np.where(x[\"log_mktcap\"]>x[\"log_mktcap\"].quantile(0.20),\n",
    "                                    1,0)))\n",
    " .query(\"larger == 1\")) ## 将市值大于20%分位数的股票赋值为1并且筛选出来"
   ]
  },
  {
   "cell_type": "code",
   "execution_count": 29,
   "metadata": {},
   "outputs": [
    {
     "data": {
      "text/html": [
       "<div>\n",
       "<style scoped>\n",
       "    .dataframe tbody tr th:only-of-type {\n",
       "        vertical-align: middle;\n",
       "    }\n",
       "\n",
       "    .dataframe tbody tr th {\n",
       "        vertical-align: top;\n",
       "    }\n",
       "\n",
       "    .dataframe thead th {\n",
       "        text-align: right;\n",
       "    }\n",
       "</style>\n",
       "<table border=\"1\" class=\"dataframe\">\n",
       "  <thead>\n",
       "    <tr style=\"text-align: right;\">\n",
       "      <th></th>\n",
       "      <th>factor</th>\n",
       "      <th>risk_premium</th>\n",
       "      <th>t_statistic</th>\n",
       "      <th>t_statistic_newey_west</th>\n",
       "    </tr>\n",
       "  </thead>\n",
       "  <tbody>\n",
       "    <tr>\n",
       "      <th>0</th>\n",
       "      <td>Intercept</td>\n",
       "      <td>0.878339</td>\n",
       "      <td>3.536886</td>\n",
       "      <td>3.273242</td>\n",
       "    </tr>\n",
       "    <tr>\n",
       "      <th>1</th>\n",
       "      <td>beta</td>\n",
       "      <td>0.003170</td>\n",
       "      <td>0.028201</td>\n",
       "      <td>0.026029</td>\n",
       "    </tr>\n",
       "    <tr>\n",
       "      <th>2</th>\n",
       "      <td>bm</td>\n",
       "      <td>0.137847</td>\n",
       "      <td>1.849944</td>\n",
       "      <td>1.690306</td>\n",
       "    </tr>\n",
       "    <tr>\n",
       "      <th>3</th>\n",
       "      <td>log_mktcap</td>\n",
       "      <td>-0.049606</td>\n",
       "      <td>-1.569433</td>\n",
       "      <td>-1.526183</td>\n",
       "    </tr>\n",
       "  </tbody>\n",
       "</table>\n",
       "</div>"
      ],
      "text/plain": [
       "       factor  risk_premium  t_statistic  t_statistic_newey_west\n",
       "0   Intercept      0.878339     3.536886                3.273242\n",
       "1        beta      0.003170     0.028201                0.026029\n",
       "2          bm      0.137847     1.849944                1.690306\n",
       "3  log_mktcap     -0.049606    -1.569433               -1.526183"
      ]
     },
     "execution_count": 29,
     "metadata": {},
     "output_type": "execute_result"
    }
   ],
   "source": [
    "csr_tsagg(data_fama_macbeth,formula=\"ret_excess_lead ~ beta + log_mktcap + bm\",weight=0)"
   ]
  },
  {
   "cell_type": "markdown",
   "metadata": {},
   "source": [
    "##### 结论：\n",
    "1. 市值加权最小二乘回归: 账面市值比变得不显著了；规模仍然负显著，但是系数绝对值变小了一半\n",
    "2. 删除每月市值后20%的FM回归: 账面市值比显著性降低；规模变得不显著\n",
    "3. 这表明账面市值比和规模溢价很大程度上来源于小公司"
   ]
  },
  {
   "cell_type": "markdown",
   "metadata": {},
   "source": [
    "### 练习三\n",
    "1. 滚动窗口计算因子暴露的估计值，已有CAPM beta,需要补充计算市值和价值因子的beta\n",
    "2. 计算风险溢价"
   ]
  },
  {
   "cell_type": "code",
   "execution_count": 30,
   "metadata": {},
   "outputs": [],
   "source": [
    "data_fama_macbeth = data_fama_macbeth_copy"
   ]
  },
  {
   "cell_type": "markdown",
   "metadata": {},
   "source": [
    "##### 计算市值和价值因子的beta"
   ]
  },
  {
   "cell_type": "code",
   "execution_count": 31,
   "metadata": {},
   "outputs": [],
   "source": [
    "crsp_monthly_for_beta = (crsp_monthly\n",
    "                         .get([\"permno\",\"month\",\"ret_excess\"])\n",
    "                         .merge(factors_ff3_monthly,\n",
    "                                how=\"left\",\n",
    "                                on=[\"month\"])\n",
    "                         .drop(\"rf\",axis=1))"
   ]
  },
  {
   "cell_type": "markdown",
   "metadata": {},
   "source": [
    "数据量很大，需要使用多线程"
   ]
  },
  {
   "cell_type": "code",
   "execution_count": 32,
   "metadata": {},
   "outputs": [],
   "source": [
    "from joblib import Parallel, delayed, cpu_count\n",
    "n_cores = cpu_count() - 1"
   ]
  },
  {
   "cell_type": "code",
   "execution_count": 33,
   "metadata": {},
   "outputs": [],
   "source": [
    "## 筛选时期大于等于60个月（不进行这一步的话后面多线程回归会报错）\n",
    "valid_permnos = (crsp_monthly_for_beta\n",
    "                 .groupby(\"permno\")['permno']\n",
    "                 .count()\n",
    "                 .reset_index(name=\"counts\")\n",
    "                 .query(\"counts >= 60\"))"
   ]
  },
  {
   "cell_type": "code",
   "execution_count": 34,
   "metadata": {},
   "outputs": [],
   "source": [
    "## 筛选股票\n",
    "crsp_monthly_for_beta_groups = (crsp_monthly_for_beta\n",
    "                                .merge(valid_permnos, \n",
    "                                        how=\"inner\", \n",
    "                                        on=\"permno\")\n",
    "                                .dropna()\n",
    "                                .groupby([\"permno\"],group_keys = False))"
   ]
  },
  {
   "cell_type": "code",
   "execution_count": 35,
   "metadata": {},
   "outputs": [],
   "source": [
    "beta_smb = (pd.concat(Parallel(n_jobs=n_cores)\n",
    "                          (delayed(roll_capm_estimation)(data[1],window_size = 60, min_obs = 48,formula=\"ret_excess~smb\",params=\"smb\",asset_type=\"permno\")\n",
    "                           for data in crsp_monthly_for_beta_groups)\n",
    "                          ) ## 对于分组数据，其中的每个元素为元组，元组的第一个元素为分组依据（这里为股票代码），第二个元素是数据框\n",
    "                .dropna()\n",
    "                .rename(columns={\"beta\": \"beta_smb\"})\n",
    "                )"
   ]
  },
  {
   "cell_type": "code",
   "execution_count": 36,
   "metadata": {},
   "outputs": [],
   "source": [
    "beta_hml = (pd.concat(Parallel(n_jobs=n_cores)\n",
    "                          (delayed(roll_capm_estimation)(data[1],window_size = 60, min_obs = 48,formula=\"ret_excess~hml\",params=\"hml\",asset_type=\"permno\")\n",
    "                           for data in crsp_monthly_for_beta_groups)\n",
    "                          ) \n",
    "                .dropna()\n",
    "                .rename(columns={\"beta\": \"beta_hml\"})\n",
    "                )"
   ]
  },
  {
   "cell_type": "code",
   "execution_count": 37,
   "metadata": {},
   "outputs": [],
   "source": [
    "## 合并风险暴露因子\n",
    "beta_factors=(beta\n",
    "              .rename(columns={\"beta_monthly\":\"beta_mkt\"})\n",
    "              .merge(beta_smb,\n",
    "                     how=\"left\",\n",
    "                     on=[\"month\",\"permno\"])\n",
    "              .merge(beta_hml,\n",
    "                     how=\"left\", \n",
    "                     on=[\"month\",\"permno\"])\n",
    "              .assign(month = lambda x: x[\"month\"]+pd.DateOffset(months=1))\n",
    "              .dropna())"
   ]
  },
  {
   "cell_type": "code",
   "execution_count": 38,
   "metadata": {},
   "outputs": [],
   "source": [
    "data_fama_macbeth  = (data_fama_macbeth\n",
    "                      .get([\"month\",\"permno\",\"ret_excess_lead\"])\n",
    "                      .merge(beta_factors,\n",
    "                             how=\"left\",\n",
    "                             on=[\"month\",\"permno\"])\n",
    "                      .dropna())"
   ]
  },
  {
   "cell_type": "markdown",
   "metadata": {},
   "source": [
    "##### 进行FM回归"
   ]
  },
  {
   "cell_type": "code",
   "execution_count": 39,
   "metadata": {},
   "outputs": [
    {
     "data": {
      "text/html": [
       "<div>\n",
       "<style scoped>\n",
       "    .dataframe tbody tr th:only-of-type {\n",
       "        vertical-align: middle;\n",
       "    }\n",
       "\n",
       "    .dataframe tbody tr th {\n",
       "        vertical-align: top;\n",
       "    }\n",
       "\n",
       "    .dataframe thead th {\n",
       "        text-align: right;\n",
       "    }\n",
       "</style>\n",
       "<table border=\"1\" class=\"dataframe\">\n",
       "  <thead>\n",
       "    <tr style=\"text-align: right;\">\n",
       "      <th></th>\n",
       "      <th>factor</th>\n",
       "      <th>risk_premium</th>\n",
       "      <th>t_statistic</th>\n",
       "      <th>t_statistic_newey_west</th>\n",
       "    </tr>\n",
       "  </thead>\n",
       "  <tbody>\n",
       "    <tr>\n",
       "      <th>0</th>\n",
       "      <td>Intercept</td>\n",
       "      <td>0.758599</td>\n",
       "      <td>6.274932</td>\n",
       "      <td>5.287137</td>\n",
       "    </tr>\n",
       "    <tr>\n",
       "      <th>1</th>\n",
       "      <td>beta_hml</td>\n",
       "      <td>0.144110</td>\n",
       "      <td>2.299934</td>\n",
       "      <td>2.073773</td>\n",
       "    </tr>\n",
       "    <tr>\n",
       "      <th>2</th>\n",
       "      <td>beta_mkt</td>\n",
       "      <td>-0.033258</td>\n",
       "      <td>-0.333832</td>\n",
       "      <td>-0.298595</td>\n",
       "    </tr>\n",
       "    <tr>\n",
       "      <th>3</th>\n",
       "      <td>beta_smb</td>\n",
       "      <td>0.173052</td>\n",
       "      <td>2.319871</td>\n",
       "      <td>2.100394</td>\n",
       "    </tr>\n",
       "  </tbody>\n",
       "</table>\n",
       "</div>"
      ],
      "text/plain": [
       "      factor  risk_premium  t_statistic  t_statistic_newey_west\n",
       "0  Intercept      0.758599     6.274932                5.287137\n",
       "1   beta_hml      0.144110     2.299934                2.073773\n",
       "2   beta_mkt     -0.033258    -0.333832               -0.298595\n",
       "3   beta_smb      0.173052     2.319871                2.100394"
      ]
     },
     "execution_count": 39,
     "metadata": {},
     "output_type": "execute_result"
    }
   ],
   "source": [
    "csr_tsagg(data_fama_macbeth,formula=\"ret_excess_lead ~ beta_mkt + beta_smb + beta_hml\",weight=0)"
   ]
  },
  {
   "cell_type": "markdown",
   "metadata": {},
   "source": [
    "##### 结论\n",
    "1. 市值和价值因子的溢价都显著，市场因子的溢价不显著\n",
    "2. 与文中结果一致"
   ]
  }
 ],
 "metadata": {
  "kernelspec": {
   "display_name": "Python 3 (ipykernel)",
   "language": "python",
   "name": "python3"
  },
  "language_info": {
   "codemirror_mode": {
    "name": "ipython",
    "version": 3
   },
   "file_extension": ".py",
   "mimetype": "text/x-python",
   "name": "python",
   "nbconvert_exporter": "python",
   "pygments_lexer": "ipython3",
   "version": "3.11.5"
  }
 },
 "nbformat": 4,
 "nbformat_minor": 2
}
