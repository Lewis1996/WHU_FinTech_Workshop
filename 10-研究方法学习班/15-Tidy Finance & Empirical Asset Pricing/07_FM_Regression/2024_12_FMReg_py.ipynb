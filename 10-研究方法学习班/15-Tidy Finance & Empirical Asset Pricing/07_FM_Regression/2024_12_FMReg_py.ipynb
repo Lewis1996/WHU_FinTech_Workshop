{
 "cells": [
  {
   "cell_type": "code",
   "execution_count": 39,
   "id": "c9f8a0c4-035e-4028-a8ff-cda4f92914ab",
   "metadata": {},
   "outputs": [],
   "source": [
    "import pandas as pd\n",
    "import numpy as np\n",
    "import statsmodels.formula.api as smf\n",
    "import statsmodels.api as sm"
   ]
  },
  {
   "cell_type": "code",
   "execution_count": 40,
   "id": "e581f3ba-2676-4e5f-833c-e1837e96edd3",
   "metadata": {},
   "outputs": [],
   "source": [
    "def wls_regression(data):\n",
    "    \n",
    "    y_name = 'ret_excess_lead'\n",
    "    X_names = ['beta','log_mktcap','bm']\n",
    "    weights_name = 'log_mktcap'\n",
    "    \n",
    "   \n",
    "    formula = f\"{y_name} ~ {' + '.join(X_names)}\"\n",
    "    \n",
    "    \n",
    "    model = smf.wls(formula, data=data, weights=data[weights_name]).fit()\n",
    "    \n",
    "    \n",
    "    return model.summary()  "
   ]
  },
  {
   "cell_type": "code",
   "execution_count": 41,
   "id": "84e31590-9466-4007-a7c5-853121e93825",
   "metadata": {},
   "outputs": [],
   "source": [
    "def ols_regression_quantile(data, formula, weight_col, quantile):\n",
    "    quantile_value = data[weight_col].quantile(quantile)\n",
    "    filtered_data = data[data[weight_col] <= quantile_value]\n",
    "    model = smf.ols(formula, data=filtered_data).fit()\n",
    "    return model.params"
   ]
  },
  {
   "cell_type": "code",
   "execution_count": 44,
   "id": "26ac0c62-06b5-4498-bd1e-099cb2e5a52b",
   "metadata": {},
   "outputs": [
    {
     "name": "stdout",
     "output_type": "stream",
     "text": [
      "                  date   permno  beta_monthly\n",
      "0  1986-03-01 00:00:00  10000.0           NaN\n",
      "1  1986-04-01 00:00:00  10000.0           NaN\n",
      "2  1986-05-01 00:00:00  10000.0           NaN\n",
      "3  1986-06-01 00:00:00  10000.0           NaN\n",
      "4  1986-07-01 00:00:00  10000.0           NaN\n",
      "   permno    gvkey                 date  ret_excess     mktcap\n",
      "0   10028  12096.0  1993-03-01 00:00:00   -0.102500   6.329250\n",
      "1   10028  12096.0  1993-04-01 00:00:00    0.386489   8.790625\n",
      "2   10028  12096.0  1993-05-01 00:00:00    0.197800  10.548750\n",
      "3   10028  12096.0  1993-06-01 00:00:00   -0.135833   9.044750\n",
      "4   10028  12096.0  1993-07-01 00:00:00    0.189908  10.784125\n",
      "              datadate  gvkey       be\n",
      "0  1960-01-31 00:00:00   6260   57.680\n",
      "1  1960-01-31 00:00:00   5270      NaN\n",
      "2  1960-01-31 00:00:00  11156      NaN\n",
      "3  1960-01-31 00:00:00   5410   14.880\n",
      "4  1960-01-31 00:00:00   4611  240.827\n"
     ]
    }
   ],
   "source": [
    "beta=pd.read_csv(r\"C:\\Users\\29075\\Desktop\\金融科技研讨班\\beta.csv\")[['date', 'permno', 'beta_monthly']]\n",
    "crsp_monthly=pd.read_csv(r\"C:\\Users\\29075\\Desktop\\金融科技研讨班\\crsp_monthly.csv\")[['permno','gvkey', 'date', 'ret_excess', 'mktcap']]\n",
    "compustat=pd.read_csv(r\"C:\\Users\\29075\\Desktop\\金融科技研讨班\\compustat.csv\")[['datadate', 'gvkey', 'be']]\n",
    "print(beta.head())\n",
    "print(crsp_monthly.head())\n",
    "print(compustat.head())"
   ]
  },
  {
   "cell_type": "code",
   "execution_count": 49,
   "id": "26e3733c-79ff-4363-a050-399f6a06d997",
   "metadata": {},
   "outputs": [
    {
     "name": "stdout",
     "output_type": "stream",
     "text": [
      "              datadate  gvkey       be       date  permno  ret_excess  mktcap  \\\n",
      "0  1960-01-31 00:00:00   6260   57.680 1960-01-01     NaN         NaN     NaN   \n",
      "1  1960-01-31 00:00:00   5270      NaN 1960-01-01     NaN         NaN     NaN   \n",
      "2  1960-01-31 00:00:00  11156      NaN 1960-01-01     NaN         NaN     NaN   \n",
      "3  1960-01-31 00:00:00   5410   14.880 1960-01-01     NaN         NaN     NaN   \n",
      "4  1960-01-31 00:00:00   4611  240.827 1960-01-01     NaN         NaN     NaN   \n",
      "\n",
      "   beta_monthly  \n",
      "0           NaN  \n",
      "1           NaN  \n",
      "2           NaN  \n",
      "3           NaN  \n",
      "4           NaN  \n"
     ]
    }
   ],
   "source": [
    "#把日数据转化为月数据，然后由M月变成M月1号便于和crsp_montyly合并,继续和beta合并\n",
    "beta['date']=pd.to_datetime(beta['date'])\n",
    "crsp_monthly['date']=pd.to_datetime(crsp_monthly['date'])\n",
    "compustat['date']=pd.to_datetime(compustat['datadate']).dt.to_period(\"M\").dt.to_timestamp()\n",
    "characteristics=compustat.merge(crsp_monthly,how=\"left\",on=['gvkey','date']).merge(beta,how=\"left\",on=['permno','date'])\n",
    "print(characteristics.head())"
   ]
  },
  {
   "cell_type": "code",
   "execution_count": 50,
   "id": "30ad1d27-0dad-4a7c-bd3a-b7aa1102f1e6",
   "metadata": {},
   "outputs": [
    {
     "name": "stdout",
     "output_type": "stream",
     "text": [
      "         gvkey        bm  log_mktcap      beta sorting_date\n",
      "549421   64766  0.203789    8.280595  1.218872   2023-06-01\n",
      "549422   36776       NaN         NaN       NaN   2023-06-01\n",
      "549423   38573       NaN         NaN       NaN   2023-06-01\n",
      "549424   29914  1.321067    3.796824  0.743790   2023-06-01\n",
      "549425  353945       NaN         NaN       NaN   2023-06-01\n"
     ]
    }
   ],
   "source": [
    "#计算bm/log_mktcap/beta 三个指标，同时设置sorting_date\n",
    "characteristics['bm']=characteristics['be']/characteristics['mktcap']\n",
    "characteristics['log_mktcap']=np.log(characteristics['mktcap'])\n",
    "characteristics['sorting_date']=characteristics['date'].apply(lambda x:x+pd.DateOffset(months=6))\n",
    "characteristics=characteristics[[\"gvkey\", \"bm\", \"log_mktcap\", \"beta_monthly\", \"sorting_date\"]].rename(columns={\"beta_monthly\": \"beta\"})\n",
    "print(characteristics.tail())"
   ]
  },
  {
   "cell_type": "code",
   "execution_count": 52,
   "id": "a26fead4-e8fc-4f61-a2e9-9e989f15d307",
   "metadata": {},
   "outputs": [
    {
     "name": "stderr",
     "output_type": "stream",
     "text": [
      "C:\\Users\\29075\\AppData\\Local\\Temp\\ipykernel_3912\\992853912.py:4: FutureWarning: Series.fillna with 'method' is deprecated and will raise in a future version. Use obj.ffill() or obj.bfill() instead.\n",
      "  data_fama_macbeth =data_fama_macbeth.groupby(\"permno\").apply(lambda x: x.assign(beta=x[\"beta\"].fillna(method=\"ffill\"),bm=x[\"bm\"].fillna(method=\"ffill\"),log_mktcap=x[\"log_mktcap\"].fillna(method=\"ffill\"))).reset_index(drop=True)\n"
     ]
    },
    {
     "name": "stdout",
     "output_type": "stream",
     "text": [
      "         permno     gvkey       date  ret_excess         mktcap        bm  \\\n",
      "3326348   93436  184996.0 2022-08-01   -0.074389  863615.620800  0.027663   \n",
      "3326349   93436  184996.0 2022-09-01   -0.039489  837659.500000  0.027663   \n",
      "3326350   93436  184996.0 2022-10-01   -0.144468  718514.868879  0.027663   \n",
      "3326351   93436  184996.0 2022-11-01   -0.147226  614814.304763  0.027663   \n",
      "3326352   93436  184996.0 2022-12-01   -0.370634  388971.892324  0.027663   \n",
      "\n",
      "         log_mktcap      beta sorting_date  \n",
      "3326348   13.903696  1.993018          NaT  \n",
      "3326349   13.903696  1.993018          NaT  \n",
      "3326350   13.903696  1.993018          NaT  \n",
      "3326351   13.903696  1.993018          NaT  \n",
      "3326352   13.903696  1.993018          NaT  \n"
     ]
    }
   ],
   "source": [
    "#再把ret_excess加入实现T和T+1数据通过sorting_date与date进行了缝合\n",
    "#对于缺失的数据，采用了前向填充\n",
    "data_fama_macbeth = crsp_monthly.merge(characteristics, how=\"left\",left_on=[\"gvkey\", \"date\"], right_on=[\"gvkey\", \"sorting_date\"]).sort_values([\"date\", \"permno\"])\n",
    "data_fama_macbeth =data_fama_macbeth.groupby(\"permno\").apply(lambda x: x.assign(beta=x[\"beta\"].fillna(method=\"ffill\"),bm=x[\"bm\"].fillna(method=\"ffill\"),log_mktcap=x[\"log_mktcap\"].fillna(method=\"ffill\"))).reset_index(drop=True)\n",
    "print(data_fama_macbeth.tail())"
   ]
  },
  {
   "cell_type": "code",
   "execution_count": 53,
   "id": "3f50f407-4c55-4a39-9ab6-398cfe79ce8a",
   "metadata": {},
   "outputs": [
    {
     "name": "stdout",
     "output_type": "stream",
     "text": [
      "         permno       date  ret_excess_lead      beta  log_mktcap        bm\n",
      "3326347   93436 2022-07-01        -0.074389  1.993018   13.903696  0.027663\n",
      "3326348   93436 2022-08-01        -0.039489  1.993018   13.903696  0.027663\n",
      "3326349   93436 2022-09-01        -0.144468  1.993018   13.903696  0.027663\n",
      "3326350   93436 2022-10-01        -0.147226  1.993018   13.903696  0.027663\n",
      "3326351   93436 2022-11-01        -0.370634  1.993018   13.903696  0.027663\n"
     ]
    }
   ],
   "source": [
    "##将date减去一个月，使得ret_excess与滞后一期的因子合并\n",
    "data_fama_macbeth_lagged =data_fama_macbeth[['permno','date','ret_excess']].rename(columns={'ret_excess':'ret_excess_lead'})\n",
    "data_fama_macbeth_lagged['date']=data_fama_macbeth_lagged['date']-pd.DateOffset(months=1)\n",
    "data_fama_macbeth=data_fama_macbeth.merge(data_fama_macbeth_lagged,how='left',on=['permno','date'])[[\"permno\", \"date\", \"ret_excess_lead\", \"beta\", \"log_mktcap\", \"bm\"]].dropna()\n",
    "print(data_fama_macbeth.tail())"
   ]
  },
  {
   "cell_type": "code",
   "execution_count": 54,
   "id": "deca1ff4-f450-4e1f-98d3-82a0c81cc1eb",
   "metadata": {},
   "outputs": [],
   "source": [
    "#按照样例的思路\n",
    "formula=\"ret_excess_lead ~ beta + log_mktcap + bm\"\n",
    "risk_premiums1= data_fama_macbeth.groupby(\"date\").apply(lambda x: smf.ols(formula,x).fit().params).reset_index()\n",
    "price_of_risk1= (risk_premiums1\n",
    "  .melt(id_vars=\"date\", var_name=\"factor\", value_name=\"estimate\")\n",
    "  .groupby(\"factor\")[\"estimate\"]\n",
    "  .apply(lambda x: pd.Series({\n",
    "      \"risk_premium\": 100*x.mean(),\n",
    "      \"t_statistic\": x.mean()/x.std()*np.sqrt(len(x))\n",
    "    })\n",
    "  )\n",
    "  .reset_index()\n",
    "  .pivot(index=\"factor\", columns=\"level_1\", values=\"estimate\")\n",
    "  .reset_index()\n",
    ")"
   ]
  },
  {
   "cell_type": "code",
   "execution_count": 55,
   "id": "22d34288-4c2d-42ac-969c-ccb0aac21e84",
   "metadata": {},
   "outputs": [
    {
     "name": "stdout",
     "output_type": "stream",
     "text": [
      "level_1      factor  risk_premium  t_statistic\n",
      "0         Intercept      1.215502     4.771331\n",
      "1              beta      0.005146     0.049929\n",
      "2                bm      0.150568     3.222465\n",
      "3        log_mktcap     -0.104206    -2.941909\n"
     ]
    }
   ],
   "source": [
    "print(price_of_risk1)"
   ]
  },
  {
   "cell_type": "code",
   "execution_count": 25,
   "id": "f05decba-89a7-4210-8bfb-64e08592fa54",
   "metadata": {},
   "outputs": [],
   "source": [
    "def ols_regression_quantile(data, formula, weight_col, quantile):\n",
    "    quantile_value = data[weight_col].quantile(quantile)\n",
    "    filtered_data = data[data[weight_col] <= quantile_value]\n",
    "    model = smf.ols(formula, data=filtered_data).fit()\n",
    "    return model.params\n",
    "\n",
    "\n",
    "formula=\"ret_excess_lead ~ beta + log_mktcap + bm\"\n",
    "\n",
    "# 对每个日期的数据子集计算80%分位数，并选择低于或等于该分位数的行进行OLS回归\n",
    "results1 = (data_fama_macbeth.groupby(\"date\")\n",
    "            .apply(lambda x: ols_regression_quantile(x, formula, 'log_mktcap', 0.8))\n",
    "            .reset_index())\n",
    "\n",
    "price_of_risk3 = (results1\n",
    "  .melt(id_vars=\"date\", var_name=\"factor\", value_name=\"estimate\")\n",
    "  .groupby(\"factor\")[\"estimate\"]\n",
    "  .apply(lambda x: pd.Series({\n",
    "      \"risk_premium\": 100*x.mean(),\n",
    "      \"t_statistic\": x.mean()/x.std()*np.sqrt(len(x))\n",
    "    })\n",
    "  )\n",
    "  .reset_index()\n",
    "  .pivot(index=\"factor\", columns=\"level_1\", values=\"estimate\")\n",
    "  .reset_index()\n",
    ")"
   ]
  },
  {
   "cell_type": "code",
   "execution_count": 56,
   "id": "516554a0-b4b6-4fb3-a9e7-70c5bf603d9d",
   "metadata": {},
   "outputs": [
    {
     "name": "stdout",
     "output_type": "stream",
     "text": [
      "level_1      factor  risk_premium  t_statistic\n",
      "0         Intercept      1.305305     4.501963\n",
      "1              beta      0.021327     0.210112\n",
      "2                bm      0.153046     3.272670\n",
      "3        log_mktcap     -0.138049    -2.842572\n"
     ]
    }
   ],
   "source": [
    "print(price_of_risk3)"
   ]
  },
  {
   "cell_type": "code",
   "execution_count": 57,
   "id": "0b7729ae-2cc8-442d-a3f4-0a617a5dfc5d",
   "metadata": {},
   "outputs": [
    {
     "name": "stderr",
     "output_type": "stream",
     "text": [
      "D:\\ANACONDA\\Lib\\site-packages\\statsmodels\\regression\\linear_model.py:774: RuntimeWarning: invalid value encountered in sqrt\n",
      "  return np.sqrt(self.weights)[:, None] * x\n",
      "D:\\ANACONDA\\Lib\\site-packages\\statsmodels\\regression\\linear_model.py:772: RuntimeWarning: invalid value encountered in sqrt\n",
      "  return x * np.sqrt(self.weights)\n"
     ]
    },
    {
     "ename": "LinAlgError",
     "evalue": "SVD did not converge",
     "output_type": "error",
     "traceback": [
      "\u001b[1;31m---------------------------------------------------------------------------\u001b[0m",
      "\u001b[1;31mLinAlgError\u001b[0m                               Traceback (most recent call last)",
      "Cell \u001b[1;32mIn[57], line 1\u001b[0m\n\u001b[1;32m----> 1\u001b[0m risk_premiums \u001b[38;5;241m=\u001b[39m data_fama_macbeth\u001b[38;5;241m.\u001b[39mgroupby(\u001b[38;5;124m'\u001b[39m\u001b[38;5;124mdate\u001b[39m\u001b[38;5;124m'\u001b[39m)\u001b[38;5;241m.\u001b[39mapply(\u001b[38;5;28;01mlambda\u001b[39;00m x:sm\u001b[38;5;241m.\u001b[39mWLS\u001b[38;5;241m.\u001b[39mfrom_formula(formula,x,weights\u001b[38;5;241m=\u001b[39mx[\u001b[38;5;124m'\u001b[39m\u001b[38;5;124mlog_mktcap\u001b[39m\u001b[38;5;124m'\u001b[39m])\u001b[38;5;241m.\u001b[39mfit()\u001b[38;5;241m.\u001b[39mparams)\u001b[38;5;241m.\u001b[39mreset_index(drop\u001b[38;5;241m=\u001b[39m\u001b[38;5;28;01mTrue\u001b[39;00m)\n",
      "File \u001b[1;32mD:\\ANACONDA\\Lib\\site-packages\\pandas\\core\\groupby\\groupby.py:1770\u001b[0m, in \u001b[0;36mGroupBy.apply\u001b[1;34m(self, func, *args, **kwargs)\u001b[0m\n\u001b[0;32m   1768\u001b[0m \u001b[38;5;28;01mwith\u001b[39;00m option_context(\u001b[38;5;124m\"\u001b[39m\u001b[38;5;124mmode.chained_assignment\u001b[39m\u001b[38;5;124m\"\u001b[39m, \u001b[38;5;28;01mNone\u001b[39;00m):\n\u001b[0;32m   1769\u001b[0m     \u001b[38;5;28;01mtry\u001b[39;00m:\n\u001b[1;32m-> 1770\u001b[0m         result \u001b[38;5;241m=\u001b[39m \u001b[38;5;28mself\u001b[39m\u001b[38;5;241m.\u001b[39m_python_apply_general(f, \u001b[38;5;28mself\u001b[39m\u001b[38;5;241m.\u001b[39m_selected_obj)\n\u001b[0;32m   1771\u001b[0m     \u001b[38;5;28;01mexcept\u001b[39;00m \u001b[38;5;167;01mTypeError\u001b[39;00m:\n\u001b[0;32m   1772\u001b[0m         \u001b[38;5;66;03m# gh-20949\u001b[39;00m\n\u001b[0;32m   1773\u001b[0m         \u001b[38;5;66;03m# try again, with .apply acting as a filtering\u001b[39;00m\n\u001b[1;32m   (...)\u001b[0m\n\u001b[0;32m   1777\u001b[0m         \u001b[38;5;66;03m# fails on *some* columns, e.g. a numeric operation\u001b[39;00m\n\u001b[0;32m   1778\u001b[0m         \u001b[38;5;66;03m# on a string grouper column\u001b[39;00m\n\u001b[0;32m   1780\u001b[0m         \u001b[38;5;28;01mreturn\u001b[39;00m \u001b[38;5;28mself\u001b[39m\u001b[38;5;241m.\u001b[39m_python_apply_general(f, \u001b[38;5;28mself\u001b[39m\u001b[38;5;241m.\u001b[39m_obj_with_exclusions)\n",
      "File \u001b[1;32mD:\\ANACONDA\\Lib\\site-packages\\pandas\\core\\groupby\\groupby.py:1819\u001b[0m, in \u001b[0;36mGroupBy._python_apply_general\u001b[1;34m(self, f, data, not_indexed_same, is_transform, is_agg)\u001b[0m\n\u001b[0;32m   1784\u001b[0m \u001b[38;5;129m@final\u001b[39m\n\u001b[0;32m   1785\u001b[0m \u001b[38;5;28;01mdef\u001b[39;00m \u001b[38;5;21m_python_apply_general\u001b[39m(\n\u001b[0;32m   1786\u001b[0m     \u001b[38;5;28mself\u001b[39m,\n\u001b[1;32m   (...)\u001b[0m\n\u001b[0;32m   1791\u001b[0m     is_agg: \u001b[38;5;28mbool\u001b[39m \u001b[38;5;241m=\u001b[39m \u001b[38;5;28;01mFalse\u001b[39;00m,\n\u001b[0;32m   1792\u001b[0m ) \u001b[38;5;241m-\u001b[39m\u001b[38;5;241m>\u001b[39m NDFrameT:\n\u001b[0;32m   1793\u001b[0m \u001b[38;5;250m    \u001b[39m\u001b[38;5;124;03m\"\"\"\u001b[39;00m\n\u001b[0;32m   1794\u001b[0m \u001b[38;5;124;03m    Apply function f in python space\u001b[39;00m\n\u001b[0;32m   1795\u001b[0m \n\u001b[1;32m   (...)\u001b[0m\n\u001b[0;32m   1817\u001b[0m \u001b[38;5;124;03m        data after applying f\u001b[39;00m\n\u001b[0;32m   1818\u001b[0m \u001b[38;5;124;03m    \"\"\"\u001b[39;00m\n\u001b[1;32m-> 1819\u001b[0m     values, mutated \u001b[38;5;241m=\u001b[39m \u001b[38;5;28mself\u001b[39m\u001b[38;5;241m.\u001b[39mgrouper\u001b[38;5;241m.\u001b[39mapply_groupwise(f, data, \u001b[38;5;28mself\u001b[39m\u001b[38;5;241m.\u001b[39maxis)\n\u001b[0;32m   1820\u001b[0m     \u001b[38;5;28;01mif\u001b[39;00m not_indexed_same \u001b[38;5;129;01mis\u001b[39;00m \u001b[38;5;28;01mNone\u001b[39;00m:\n\u001b[0;32m   1821\u001b[0m         not_indexed_same \u001b[38;5;241m=\u001b[39m mutated\n",
      "File \u001b[1;32mD:\\ANACONDA\\Lib\\site-packages\\pandas\\core\\groupby\\ops.py:911\u001b[0m, in \u001b[0;36mBaseGrouper.apply_groupwise\u001b[1;34m(self, f, data, axis)\u001b[0m\n\u001b[0;32m    909\u001b[0m \u001b[38;5;66;03m# group might be modified\u001b[39;00m\n\u001b[0;32m    910\u001b[0m group_axes \u001b[38;5;241m=\u001b[39m group\u001b[38;5;241m.\u001b[39maxes\n\u001b[1;32m--> 911\u001b[0m res \u001b[38;5;241m=\u001b[39m f(group)\n\u001b[0;32m    912\u001b[0m \u001b[38;5;28;01mif\u001b[39;00m \u001b[38;5;129;01mnot\u001b[39;00m mutated \u001b[38;5;129;01mand\u001b[39;00m \u001b[38;5;129;01mnot\u001b[39;00m _is_indexed_like(res, group_axes, axis):\n\u001b[0;32m    913\u001b[0m     mutated \u001b[38;5;241m=\u001b[39m \u001b[38;5;28;01mTrue\u001b[39;00m\n",
      "Cell \u001b[1;32mIn[57], line 1\u001b[0m, in \u001b[0;36m<lambda>\u001b[1;34m(x)\u001b[0m\n\u001b[1;32m----> 1\u001b[0m risk_premiums \u001b[38;5;241m=\u001b[39m data_fama_macbeth\u001b[38;5;241m.\u001b[39mgroupby(\u001b[38;5;124m'\u001b[39m\u001b[38;5;124mdate\u001b[39m\u001b[38;5;124m'\u001b[39m)\u001b[38;5;241m.\u001b[39mapply(\u001b[38;5;28;01mlambda\u001b[39;00m x:sm\u001b[38;5;241m.\u001b[39mWLS\u001b[38;5;241m.\u001b[39mfrom_formula(formula,x,weights\u001b[38;5;241m=\u001b[39mx[\u001b[38;5;124m'\u001b[39m\u001b[38;5;124mlog_mktcap\u001b[39m\u001b[38;5;124m'\u001b[39m])\u001b[38;5;241m.\u001b[39mfit()\u001b[38;5;241m.\u001b[39mparams)\u001b[38;5;241m.\u001b[39mreset_index(drop\u001b[38;5;241m=\u001b[39m\u001b[38;5;28;01mTrue\u001b[39;00m)\n",
      "File \u001b[1;32mD:\\ANACONDA\\Lib\\site-packages\\statsmodels\\regression\\linear_model.py:335\u001b[0m, in \u001b[0;36mRegressionModel.fit\u001b[1;34m(self, method, cov_type, cov_kwds, use_t, **kwargs)\u001b[0m\n\u001b[0;32m    330\u001b[0m \u001b[38;5;28;01mif\u001b[39;00m method \u001b[38;5;241m==\u001b[39m \u001b[38;5;124m\"\u001b[39m\u001b[38;5;124mpinv\u001b[39m\u001b[38;5;124m\"\u001b[39m:\n\u001b[0;32m    331\u001b[0m     \u001b[38;5;28;01mif\u001b[39;00m \u001b[38;5;129;01mnot\u001b[39;00m (\u001b[38;5;28mhasattr\u001b[39m(\u001b[38;5;28mself\u001b[39m, \u001b[38;5;124m'\u001b[39m\u001b[38;5;124mpinv_wexog\u001b[39m\u001b[38;5;124m'\u001b[39m) \u001b[38;5;129;01mand\u001b[39;00m\n\u001b[0;32m    332\u001b[0m             \u001b[38;5;28mhasattr\u001b[39m(\u001b[38;5;28mself\u001b[39m, \u001b[38;5;124m'\u001b[39m\u001b[38;5;124mnormalized_cov_params\u001b[39m\u001b[38;5;124m'\u001b[39m) \u001b[38;5;129;01mand\u001b[39;00m\n\u001b[0;32m    333\u001b[0m             \u001b[38;5;28mhasattr\u001b[39m(\u001b[38;5;28mself\u001b[39m, \u001b[38;5;124m'\u001b[39m\u001b[38;5;124mrank\u001b[39m\u001b[38;5;124m'\u001b[39m)):\n\u001b[1;32m--> 335\u001b[0m         \u001b[38;5;28mself\u001b[39m\u001b[38;5;241m.\u001b[39mpinv_wexog, singular_values \u001b[38;5;241m=\u001b[39m pinv_extended(\u001b[38;5;28mself\u001b[39m\u001b[38;5;241m.\u001b[39mwexog)\n\u001b[0;32m    336\u001b[0m         \u001b[38;5;28mself\u001b[39m\u001b[38;5;241m.\u001b[39mnormalized_cov_params \u001b[38;5;241m=\u001b[39m np\u001b[38;5;241m.\u001b[39mdot(\n\u001b[0;32m    337\u001b[0m             \u001b[38;5;28mself\u001b[39m\u001b[38;5;241m.\u001b[39mpinv_wexog, np\u001b[38;5;241m.\u001b[39mtranspose(\u001b[38;5;28mself\u001b[39m\u001b[38;5;241m.\u001b[39mpinv_wexog))\n\u001b[0;32m    339\u001b[0m         \u001b[38;5;66;03m# Cache these singular values for use later.\u001b[39;00m\n",
      "File \u001b[1;32mD:\\ANACONDA\\Lib\\site-packages\\statsmodels\\tools\\tools.py:264\u001b[0m, in \u001b[0;36mpinv_extended\u001b[1;34m(x, rcond)\u001b[0m\n\u001b[0;32m    262\u001b[0m x \u001b[38;5;241m=\u001b[39m np\u001b[38;5;241m.\u001b[39masarray(x)\n\u001b[0;32m    263\u001b[0m x \u001b[38;5;241m=\u001b[39m x\u001b[38;5;241m.\u001b[39mconjugate()\n\u001b[1;32m--> 264\u001b[0m u, s, vt \u001b[38;5;241m=\u001b[39m np\u001b[38;5;241m.\u001b[39mlinalg\u001b[38;5;241m.\u001b[39msvd(x, \u001b[38;5;28;01mFalse\u001b[39;00m)\n\u001b[0;32m    265\u001b[0m s_orig \u001b[38;5;241m=\u001b[39m np\u001b[38;5;241m.\u001b[39mcopy(s)\n\u001b[0;32m    266\u001b[0m m \u001b[38;5;241m=\u001b[39m u\u001b[38;5;241m.\u001b[39mshape[\u001b[38;5;241m0\u001b[39m]\n",
      "File \u001b[1;32mD:\\ANACONDA\\Lib\\site-packages\\numpy\\linalg\\linalg.py:1681\u001b[0m, in \u001b[0;36msvd\u001b[1;34m(a, full_matrices, compute_uv, hermitian)\u001b[0m\n\u001b[0;32m   1678\u001b[0m         gufunc \u001b[38;5;241m=\u001b[39m _umath_linalg\u001b[38;5;241m.\u001b[39msvd_n_s\n\u001b[0;32m   1680\u001b[0m signature \u001b[38;5;241m=\u001b[39m \u001b[38;5;124m'\u001b[39m\u001b[38;5;124mD->DdD\u001b[39m\u001b[38;5;124m'\u001b[39m \u001b[38;5;28;01mif\u001b[39;00m isComplexType(t) \u001b[38;5;28;01melse\u001b[39;00m \u001b[38;5;124m'\u001b[39m\u001b[38;5;124md->ddd\u001b[39m\u001b[38;5;124m'\u001b[39m\n\u001b[1;32m-> 1681\u001b[0m u, s, vh \u001b[38;5;241m=\u001b[39m gufunc(a, signature\u001b[38;5;241m=\u001b[39msignature, extobj\u001b[38;5;241m=\u001b[39mextobj)\n\u001b[0;32m   1682\u001b[0m u \u001b[38;5;241m=\u001b[39m u\u001b[38;5;241m.\u001b[39mastype(result_t, copy\u001b[38;5;241m=\u001b[39m\u001b[38;5;28;01mFalse\u001b[39;00m)\n\u001b[0;32m   1683\u001b[0m s \u001b[38;5;241m=\u001b[39m s\u001b[38;5;241m.\u001b[39mastype(_realType(result_t), copy\u001b[38;5;241m=\u001b[39m\u001b[38;5;28;01mFalse\u001b[39;00m)\n",
      "File \u001b[1;32mD:\\ANACONDA\\Lib\\site-packages\\numpy\\linalg\\linalg.py:121\u001b[0m, in \u001b[0;36m_raise_linalgerror_svd_nonconvergence\u001b[1;34m(err, flag)\u001b[0m\n\u001b[0;32m    120\u001b[0m \u001b[38;5;28;01mdef\u001b[39;00m \u001b[38;5;21m_raise_linalgerror_svd_nonconvergence\u001b[39m(err, flag):\n\u001b[1;32m--> 121\u001b[0m     \u001b[38;5;28;01mraise\u001b[39;00m LinAlgError(\u001b[38;5;124m\"\u001b[39m\u001b[38;5;124mSVD did not converge\u001b[39m\u001b[38;5;124m\"\u001b[39m)\n",
      "\u001b[1;31mLinAlgError\u001b[0m: SVD did not converge"
     ]
    }
   ],
   "source": [
    "risk_premiums = data_fama_macbeth.groupby('date').apply(lambda x:sm.WLS.from_formula(formula,x,weights=x['log_mktcap']).fit().params).reset_index(drop=True)"
   ]
  },
  {
   "cell_type": "code",
   "execution_count": null,
   "id": "2a0e9bd0-073e-4e15-86ee-cf7d94cb3a06",
   "metadata": {},
   "outputs": [],
   "source": []
  }
 ],
 "metadata": {
  "kernelspec": {
   "display_name": "Python 3 (ipykernel)",
   "language": "python",
   "name": "python3"
  },
  "language_info": {
   "codemirror_mode": {
    "name": "ipython",
    "version": 3
   },
   "file_extension": ".py",
   "mimetype": "text/x-python",
   "name": "python",
   "nbconvert_exporter": "python",
   "pygments_lexer": "ipython3",
   "version": "3.11.7"
  }
 },
 "nbformat": 4,
 "nbformat_minor": 5
}
